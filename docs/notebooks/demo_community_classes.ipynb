{
 "cells": [
  {
   "cell_type": "markdown",
   "metadata": {},
   "source": [
    "# Dynamic Community classes"
   ]
  },
  {
   "cell_type": "markdown",
   "metadata": {},
   "source": [
    "## Table of Contents\n",
    "\n",
    "1.  [Initializing a dynamic community structure](#creating)\n",
    "  *   [Using a snapshot representation]\n",
    "  *  [Using an interval graph representation]\n",
    "2. [Accessing properties of communities](#accessing)\n",
    "3. [Duration,frequencies of relations between nodes and communities](#duration)\n",
    "4. [Visualization](#visu)\n",
    "5. [Conversion between snapshots and interval graphs](#conversion)\n",
    "6. [Slicing](#slicing)\n",
    "\n"
   ]
  },
  {
   "cell_type": "markdown",
   "metadata": {},
   "source": [
    "If tnerwork library is not installed, you need to install it, for instance using the following command"
   ]
  },
  {
   "cell_type": "code",
   "execution_count": 1,
   "metadata": {},
   "outputs": [],
   "source": [
    "#%%capture #avoid printing output\n",
    "#!pip install --upgrade git+https://github.com/Yquetzal/tnetwork.git"
   ]
  },
  {
   "cell_type": "code",
   "execution_count": 2,
   "metadata": {},
   "outputs": [],
   "source": [
    "%load_ext autoreload\n",
    "\n",
    "%autoreload 2\n",
    "import tnetwork as tn"
   ]
  },
  {
   "cell_type": "markdown",
   "metadata": {},
   "source": [
    "<a id='creating'></a>\n",
    "## Initializing a dynamic community structure\n",
    "### With snapshots"
   ]
  },
  {
   "cell_type": "code",
   "execution_count": 3,
   "metadata": {},
   "outputs": [],
   "source": [
    "com_sn = tn.DynCommunitiesSN()\n",
    "com_sn.add_affiliation(\"a\",\"com1\",1)\n",
    "com_sn.add_affiliation({\"b\",\"c\"},\"com2\",[2,3])\n",
    "com_sn.add_affiliation(\"d\",{\"com1\"},[1,3])\n"
   ]
  },
  {
   "cell_type": "markdown",
   "metadata": {},
   "source": [
    "### With Interval graphs\n",
    "As with dynamic graphs, intervals are closed on the left and open on the right.\n",
    "Periods can be represented in different manners, as shown in the following example"
   ]
  },
  {
   "cell_type": "code",
   "execution_count": 4,
   "metadata": {},
   "outputs": [],
   "source": [
    "com_ig = tn.DynCommunitiesIG()\n",
    "com_ig.add_affiliation(\"a\",\"com1\",(1,2))\n",
    "com_ig.add_affiliation({\"b\",\"c\"},\"com2\",tn.Intervals((2,4)))\n",
    "com_ig.add_affiliation(\"d\",{\"com1\"},[(1,2),(3,4)])"
   ]
  },
  {
   "cell_type": "markdown",
   "metadata": {},
   "source": [
    "<a id='accessing'></a>\n",
    "\n",
    "## Accessing properties of communities"
   ]
  },
  {
   "cell_type": "markdown",
   "metadata": {},
   "source": [
    "### Check communities\n",
    "We check the sate of communities at a particular time.\n",
    "\n",
    "Static communities can be accessed in two forms\n",
    "\n",
    "   * in the **community** form (key = community ID, value = set of nodes) \n",
    "   * in **affiliation** form (key = a noe, value = set of communities)\n",
    "\n",
    "Example, state of communities at time 3, in *community* and *affiliation* forms"
   ]
  },
  {
   "cell_type": "code",
   "execution_count": 5,
   "metadata": {},
   "outputs": [
    {
     "name": "stdout",
     "output_type": "stream",
     "text": [
      "{'com2': {'c', 'b'}, 'com1': {'d'}}\n",
      "{'c': {'com2'}, 'b': {'com2'}, 'd': {'com1'}}\n",
      "{'com2': {'b', 'c'}, 'com1': {'d'}}\n",
      "{'c': {'com2'}, 'b': {'com2'}, 'd': {'com1'}}\n"
     ]
    }
   ],
   "source": [
    "print(com_sn.communities(3))\n",
    "print(com_sn.affiliations(3))\n",
    "print(com_ig.communities(3))\n",
    "print(com_ig.affiliations(3))"
   ]
  },
  {
   "cell_type": "markdown",
   "metadata": {},
   "source": [
    "The same form exist to access dynamic communities.\n",
    "   * communities form: for each community, for each of its nodes, presence time\n",
    "   * affiliation form: for each node, for each of its communities, presence time"
   ]
  },
  {
   "cell_type": "code",
   "execution_count": 6,
   "metadata": {},
   "outputs": [
    {
     "name": "stdout",
     "output_type": "stream",
     "text": [
      "{'com1': {'d': [1, 3], 'a': [1]}, 'com2': {'c': [2, 3], 'b': [2, 3]}}\n",
      "{'com1': {'a': [1,2[ , 'd': [1,2[ [3,4[ }, 'com2': {'c': [2,4[ , 'b': [2,4[ }}\n",
      "{'d': {'com1': [1, 3]}, 'a': {'com1': [1]}, 'c': {'com2': [2, 3]}, 'b': {'com2': [2, 3]}}\n",
      "{'a': {'com1': [1,2[ }, 'c': {'com2': [2,4[ }, 'b': {'com2': [2,4[ }, 'd': {'com1': [1,2[ [3,4[ }}\n"
     ]
    }
   ],
   "source": [
    "print(com_sn.communities())\n",
    "print(com_ig.communities())\n",
    "print(com_sn.affiliations())\n",
    "print(com_ig.affiliations())"
   ]
  },
  {
   "cell_type": "markdown",
   "metadata": {},
   "source": [
    "### In each snapshot\n",
    "For snapshots representation, it is also possible to obtain communities in each snapshot"
   ]
  },
  {
   "cell_type": "code",
   "execution_count": 7,
   "metadata": {},
   "outputs": [
    {
     "name": "stdout",
     "output_type": "stream",
     "text": [
      "SortedDict({1: {'d': {'com1'}, 'a': {'com1'}}, 2: {'c': {'com2'}, 'b': {'com2'}}, 3: {'c': {'com2'}, 'b': {'com2'}, 'd': {'com1'}}})\n"
     ]
    }
   ],
   "source": [
    "print(com_sn.snapshot_affiliations())"
   ]
  },
  {
   "cell_type": "markdown",
   "metadata": {},
   "source": [
    "<a id='duration'></a>\n",
    "\n",
    "## Duration/frequencies of relations between nodes and communities\n",
    "One can check how long does a node belong to a community, in total"
   ]
  },
  {
   "cell_type": "code",
   "execution_count": 8,
   "metadata": {},
   "outputs": [
    {
     "name": "stdout",
     "output_type": "stream",
     "text": [
      "2\n",
      "2\n"
     ]
    }
   ],
   "source": [
    "print(com_sn.affiliations_durations(\"d\",\"com1\"))\n",
    "print(com_ig.affiliations_durations(\"d\",\"com1\"))"
   ]
  },
  {
   "cell_type": "markdown",
   "metadata": {},
   "source": [
    "One can also check directly the duration of affiliations of each node to each community"
   ]
  },
  {
   "cell_type": "code",
   "execution_count": 9,
   "metadata": {},
   "outputs": [
    {
     "name": "stdout",
     "output_type": "stream",
     "text": [
      "{('d', 'com1'): 2, ('c', 'com2'): 2, ('a', 'com1'): 1, ('b', 'com2'): 2}\n",
      "{('b', 'com2'): 2, ('c', 'com2'): 2, ('a', 'com1'): 1, ('d', 'com1'): 2}\n"
     ]
    }
   ],
   "source": [
    "print(com_sn.affiliations_durations())\n",
    "print(com_ig.affiliations_durations())"
   ]
  },
  {
   "cell_type": "markdown",
   "metadata": {},
   "source": [
    "<a id='visu'></a>\n",
    "\n",
    "## Visualization\n",
    "A simple example of visualization. To see more possibilities, see the dedicated section of the documentation\n",
    "\n",
    "Note that it is the same function which is used to plot longitudinial graphs and communities. That is why we need to specify that what we provide corresponds to the `communities` parameter. One can provide both a graph and a dynamic community structure to this function."
   ]
  },
  {
   "cell_type": "code",
   "execution_count": 10,
   "metadata": {},
   "outputs": [
    {
     "name": "stderr",
     "output_type": "stream",
     "text": [
      "/usr/local/lib/python3.7/site-packages/numpy/core/numeric.py:2327: FutureWarning: elementwise comparison failed; returning scalar instead, but in the future will perform elementwise comparison\n",
      "  return bool(asarray(a1 == a2).all())\n"
     ]
    },
    {
     "data": {
      "image/png": "[encoded data removed]",
      "text/plain": [
       "<Figure size 800x200 with 1 Axes>"
      ]
     },
     "metadata": {
      "needs_background": "light"
     },
     "output_type": "display_data"
    },
    {
     "data": {
      "image/png": "[encoded data removed]",
      "text/plain": [
       "<Figure size 800x200 with 1 Axes>"
      ]
     },
     "metadata": {
      "needs_background": "light"
     },
     "output_type": "display_data"
    }
   ],
   "source": [
    "plot = tn.plot_longitudinal(communities=com_sn,height=200)\n",
    "plot = tn.plot_longitudinal(communities=com_ig,height=200)"
   ]
  },
  {
   "cell_type": "markdown",
   "metadata": {},
   "source": [
    "One can also plot a graph with nodes color corresponding to communities.\n",
    "In this example, we create a dynamic graph with a fix structure, and plot the communities we defined above"
   ]
  },
  {
   "cell_type": "code",
   "execution_count": 11,
   "metadata": {},
   "outputs": [
    {
     "data": {
      "image/png": "[encoded data removed]",
      "text/plain": [
       "<Figure size 600x200 with 3 Axes>"
      ]
     },
     "metadata": {},
     "output_type": "display_data"
    }
   ],
   "source": [
    "graph_toy = tn.DynGraphIG()\n",
    "graph_toy.add_interaction(\"a\",\"b\",(1,4))\n",
    "graph_toy.add_interaction(\"a\",\"c\",(1,4))\n",
    "graph_toy.add_interaction(\"a\",\"d\",(1,4))\n",
    "graph_toy.add_interaction(\"b\",\"d\",(1,4))\n",
    "\n",
    "plot = tn.plot_as_graph(graph_toy,com_ig,[1,2,3],auto_show=True,width=200,height=200)"
   ]
  },
  {
   "cell_type": "markdown",
   "metadata": {},
   "source": [
    "<a id='conversion'></a>\n",
    "\n",
    "## Conversion between snapshots and interval representation\n",
    "Dynamic network representations can be converted by calling the appropriate function.\n",
    "  * When converting to interval graphs, we provide the duration of each snapshots\n",
    "  * When converting to snapshots, we provide the slices to which each snapshot should correspond. Note that it is tehrefore possible to have snapshots corresponding to overlapping periods"
   ]
  },
  {
   "cell_type": "code",
   "execution_count": 12,
   "metadata": {},
   "outputs": [
    {
     "name": "stdout",
     "output_type": "stream",
     "text": [
      "{'com1': {'d': [1,2[ [3,4[ , 'a': [1,2[ }, 'com2': {'c': [2,4[ , 'b': [2,4[ }}\n",
      "{'com1': {'a': [1,2[ , 'd': [1,2[ [3,4[ }, 'com2': {'c': [2,4[ , 'b': [2,4[ }}\n"
     ]
    }
   ],
   "source": [
    "converted_ig = com_sn.to_DynCommunitiesIG(1)\n",
    "print(converted_ig.communities())\n",
    "print(com_ig.communities())"
   ]
  },
  {
   "cell_type": "code",
   "execution_count": 13,
   "metadata": {},
   "outputs": [
    {
     "name": "stdout",
     "output_type": "stream",
     "text": [
      "{'com1': {'d': [1, 3], 'a': [1]}, 'com2': {'b': [2, 3], 'c': [2, 3]}}\n",
      "{'com1': {'d': [1, 3], 'a': [1]}, 'com2': {'c': [2, 3], 'b': [2, 3]}}\n"
     ]
    }
   ],
   "source": [
    "converted_sn = com_ig.to_DynCommunitiesSN(slices=[(x,x+1) for x in range(1,4)])\n",
    "print(converted_sn.communities())\n",
    "print(com_sn.communities())"
   ]
  },
  {
   "cell_type": "markdown",
   "metadata": {},
   "source": [
    "<a id='slicing'></a>\n",
    "\n",
    "## Slicing\n",
    "Slicing part of networks can be useful, for instance to visualize only a fraction of a large dynamic partition"
   ]
  },
  {
   "cell_type": "code",
   "execution_count": 14,
   "metadata": {},
   "outputs": [
    {
     "data": {
      "image/png": "[encoded data removed]",
      "text/plain": [
       "<Figure size 800x200 with 1 Axes>"
      ]
     },
     "metadata": {
      "needs_background": "light"
     },
     "output_type": "display_data"
    }
   ],
   "source": [
    "sliced = com_ig.slice(start=1,end=3)\n",
    "plot = tn.plot_longitudinal(communities=sliced,height=200)"
   ]
  },
  {
   "cell_type": "code",
   "execution_count": null,
   "metadata": {},
   "outputs": [],
   "source": []
  }
 ],
 "metadata": {
  "kernelspec": {
   "display_name": "Python 3",
   "language": "python",
   "name": "python3"
  },
  "language_info": {
   "codemirror_mode": {
    "name": "ipython",
    "version": 3
   },
   "file_extension": ".py",
   "mimetype": "text/x-python",
   "name": "python",
   "nbconvert_exporter": "python",
   "pygments_lexer": "ipython3",
   "version": "3.7.5"
  }
 },
 "nbformat": 4,
 "nbformat_minor": 2
}
