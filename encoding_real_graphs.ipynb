{
 "cells": [
  {
   "cell_type": "code",
   "execution_count": 1,
   "metadata": {},
   "outputs": [],
   "source": [
    "%load_ext autoreload\n",
    "%autoreload 2\n",
    "import tnetwork as tn\n",
    "import pandas as pd\n",
    "import seaborn as sns\n",
    "import numpy as np\n",
    "import networkx as nx\n",
    "import matplotlib.pyplot as plt"
   ]
  },
  {
   "cell_type": "code",
   "execution_count": null,
   "metadata": {},
   "outputs": [],
   "source": []
  },
  {
   "cell_type": "code",
   "execution_count": 2,
   "metadata": {},
   "outputs": [],
   "source": [
    "def compute_stats(ps,tts,functions,names):\n",
    "    sn1 = []\n",
    "    sn2 = []\n",
    "    ls = []\n",
    "    ig=[]\n",
    "    updates=[]\n",
    "\n",
    "\n",
    "    scores = []\n",
    "\n",
    "    for tt in tts:\n",
    "        print(\"====\",tt,\" ====\")\n",
    "        ps_tt=ps.aggregate_sliding_window(tt,weighted=False)\n",
    "        #print(ps_tt.snapshots())\n",
    "        ps_ig = ps_tt.to_DynGraphIG(sn_duration=tt)\n",
    "        #print(ps_ig.interactions())\n",
    "        #((score_sn_m,score_sn_e),score_ls,score_ig,score_udpate) = entropies(ps_tt,ps_ig)\n",
    "        scores.append([tt]+[f(ps_tt,ps_ig) for f in functions])\n",
    "\n",
    "\n",
    "\n",
    "    df = pd.DataFrame.from_records(scores,columns=[\"tts\"]+names)\n",
    "    return df"
   ]
  },
  {
   "cell_type": "code",
   "execution_count": 3,
   "metadata": {},
   "outputs": [],
   "source": [
    "def score_sn_m(g_sn,g_ig):\n",
    "    return(tn.code_length_SN_M(g_sn))\n",
    "def score_sn_e(g_sn,g_ig):\n",
    "    return(tn.code_length_SN_E(g_sn))\n",
    "def score_ig(g_sn,g_ig):\n",
    "    return(tn.code_length_IG(g_ig))\n",
    "#def score_update(g_sn,g_ig):\n",
    "#    return(tn.code_length_update(g_sn))\n",
    "def score_ls(g_sn,g_ig):\n",
    "    return tn.code_length_LS(g_sn)\n",
    "\n",
    "def stability(g_sn,g_ig):\n",
    "    return(g_sn.stability())\n",
    "def synchronicity(g_sn,g_ig):\n",
    "    return g_sn.synchronicity()"
   ]
  },
  {
   "cell_type": "code",
   "execution_count": 4,
   "metadata": {},
   "outputs": [],
   "source": [
    "functions = [score_ls,score_sn_m,score_ig,score_sn_e]\n",
    "names= [\"$LS$\",\"$SN_M$\",\"$IG$\",\"$SN_E$\"]"
   ]
  },
  {
   "cell_type": "code",
   "execution_count": 7,
   "metadata": {},
   "outputs": [
    {
     "name": "stdout",
     "output_type": "stream",
     "text": [
      "graph will be loaded as:  <class 'tnetwork.dyn_graph.dyn_graph_sn.DynGraphSN'>\n",
      "==== 432000  ====\n",
      "==== 345600  ====\n",
      "==== 172800  ====\n",
      "==== 86400  ====\n",
      "==== 43200  ====\n",
      "==== 21600  ====\n",
      "==== 14400  ====\n",
      "==== 7200  ====\n",
      "==== 3600  ====\n",
      "==== 1800  ====\n",
      "==== 900  ====\n",
      "==== 300  ====\n",
      "==== 120  ====\n",
      "==== 60  ====\n",
      "==== 20  ====\n"
     ]
    }
   ],
   "source": [
    "h = 3600\n",
    "d=h*24\n",
    "tts=[5*d,4*d,2*d,d,h*12,h*6,h*4,h*2,h,60*30,60*15,60*5,60*2,60,20]\n",
    "\n",
    "#functions=[score_ls,score_sn_m,score_ig,score_sn_e,score_update,stability,synchronicity]\n",
    "#names= [\"$LS$\",\"$SN$\",\"$IG$\",\"sn_e\",\"update\",\"stability\",\"synchronicity\"]\n",
    "\n",
    "\n",
    "#tts = [int(day)]\n",
    "\n",
    "SP2012 = compute_stats(tn.graph_socioPatterns2012(format=tn.DynGraphSN),tts,functions,names)"
   ]
  },
  {
   "cell_type": "code",
   "execution_count": 8,
   "metadata": {},
   "outputs": [
    {
     "data": {
      "text/html": [
       "<div>\n",
       "<style scoped>\n",
       "    .dataframe tbody tr th:only-of-type {\n",
       "        vertical-align: middle;\n",
       "    }\n",
       "\n",
       "    .dataframe tbody tr th {\n",
       "        vertical-align: top;\n",
       "    }\n",
       "\n",
       "    .dataframe thead th {\n",
       "        text-align: right;\n",
       "    }\n",
       "</style>\n",
       "<table border=\"1\" class=\"dataframe\">\n",
       "  <thead>\n",
       "    <tr style=\"text-align: right;\">\n",
       "      <th></th>\n",
       "      <th>tts</th>\n",
       "      <th>$LS$</th>\n",
       "      <th>$SN_M$</th>\n",
       "      <th>$IG$</th>\n",
       "      <th>$SN_E$</th>\n",
       "    </tr>\n",
       "  </thead>\n",
       "  <tbody>\n",
       "    <tr>\n",
       "      <th>0</th>\n",
       "      <td>432000</td>\n",
       "      <td>38260.827748</td>\n",
       "      <td>3.770583e+04</td>\n",
       "      <td>43819.678003</td>\n",
       "      <td>41641.719509</td>\n",
       "    </tr>\n",
       "    <tr>\n",
       "      <th>1</th>\n",
       "      <td>345600</td>\n",
       "      <td>41778.246302</td>\n",
       "      <td>3.992858e+04</td>\n",
       "      <td>46959.827748</td>\n",
       "      <td>47278.347925</td>\n",
       "    </tr>\n",
       "    <tr>\n",
       "      <th>2</th>\n",
       "      <td>172800</td>\n",
       "      <td>47225.581382</td>\n",
       "      <td>4.437544e+04</td>\n",
       "      <td>52894.032978</td>\n",
       "      <td>56919.725760</td>\n",
       "    </tr>\n",
       "    <tr>\n",
       "      <th>3</th>\n",
       "      <td>86400</td>\n",
       "      <td>52463.827748</td>\n",
       "      <td>5.104783e+04</td>\n",
       "      <td>62051.656618</td>\n",
       "      <td>62775.761535</td>\n",
       "    </tr>\n",
       "    <tr>\n",
       "      <th>4</th>\n",
       "      <td>43200</td>\n",
       "      <td>57016.950298</td>\n",
       "      <td>6.217193e+04</td>\n",
       "      <td>74340.875470</td>\n",
       "      <td>63159.476200</td>\n",
       "    </tr>\n",
       "    <tr>\n",
       "      <th>5</th>\n",
       "      <td>21600</td>\n",
       "      <td>64642.543416</td>\n",
       "      <td>7.997607e+04</td>\n",
       "      <td>83456.420221</td>\n",
       "      <td>74186.665789</td>\n",
       "    </tr>\n",
       "    <tr>\n",
       "      <th>6</th>\n",
       "      <td>14400</td>\n",
       "      <td>69684.348637</td>\n",
       "      <td>9.555843e+04</td>\n",
       "      <td>88403.620180</td>\n",
       "      <td>80806.880079</td>\n",
       "    </tr>\n",
       "    <tr>\n",
       "      <th>7</th>\n",
       "      <td>7200</td>\n",
       "      <td>79899.607713</td>\n",
       "      <td>1.423189e+05</td>\n",
       "      <td>99502.517989</td>\n",
       "      <td>92200.158274</td>\n",
       "    </tr>\n",
       "    <tr>\n",
       "      <th>8</th>\n",
       "      <td>3600</td>\n",
       "      <td>91807.099663</td>\n",
       "      <td>2.247365e+05</td>\n",
       "      <td>116729.650813</td>\n",
       "      <td>105078.993169</td>\n",
       "    </tr>\n",
       "    <tr>\n",
       "      <th>9</th>\n",
       "      <td>1800</td>\n",
       "      <td>108304.552144</td>\n",
       "      <td>4.007793e+05</td>\n",
       "      <td>136025.259110</td>\n",
       "      <td>123062.941924</td>\n",
       "    </tr>\n",
       "    <tr>\n",
       "      <th>10</th>\n",
       "      <td>900</td>\n",
       "      <td>132340.667481</td>\n",
       "      <td>7.284889e+05</td>\n",
       "      <td>158645.218060</td>\n",
       "      <td>153171.292729</td>\n",
       "    </tr>\n",
       "    <tr>\n",
       "      <th>11</th>\n",
       "      <td>300</td>\n",
       "      <td>191747.605705</td>\n",
       "      <td>2.026709e+06</td>\n",
       "      <td>214455.351970</td>\n",
       "      <td>231108.109326</td>\n",
       "    </tr>\n",
       "    <tr>\n",
       "      <th>12</th>\n",
       "      <td>120</td>\n",
       "      <td>278563.539951</td>\n",
       "      <td>4.847925e+06</td>\n",
       "      <td>286749.231588</td>\n",
       "      <td>354831.018976</td>\n",
       "    </tr>\n",
       "    <tr>\n",
       "      <th>13</th>\n",
       "      <td>60</td>\n",
       "      <td>383198.054522</td>\n",
       "      <td>9.262640e+06</td>\n",
       "      <td>371024.454712</td>\n",
       "      <td>514815.723463</td>\n",
       "    </tr>\n",
       "    <tr>\n",
       "      <th>14</th>\n",
       "      <td>20</td>\n",
       "      <td>669485.736143</td>\n",
       "      <td>2.520883e+07</td>\n",
       "      <td>593031.772854</td>\n",
       "      <td>995578.624221</td>\n",
       "    </tr>\n",
       "  </tbody>\n",
       "</table>\n",
       "</div>"
      ],
      "text/plain": [
       "       tts           $LS$        $SN_M$           $IG$         $SN_E$\n",
       "0   432000   38260.827748  3.770583e+04   43819.678003   41641.719509\n",
       "1   345600   41778.246302  3.992858e+04   46959.827748   47278.347925\n",
       "2   172800   47225.581382  4.437544e+04   52894.032978   56919.725760\n",
       "3    86400   52463.827748  5.104783e+04   62051.656618   62775.761535\n",
       "4    43200   57016.950298  6.217193e+04   74340.875470   63159.476200\n",
       "5    21600   64642.543416  7.997607e+04   83456.420221   74186.665789\n",
       "6    14400   69684.348637  9.555843e+04   88403.620180   80806.880079\n",
       "7     7200   79899.607713  1.423189e+05   99502.517989   92200.158274\n",
       "8     3600   91807.099663  2.247365e+05  116729.650813  105078.993169\n",
       "9     1800  108304.552144  4.007793e+05  136025.259110  123062.941924\n",
       "10     900  132340.667481  7.284889e+05  158645.218060  153171.292729\n",
       "11     300  191747.605705  2.026709e+06  214455.351970  231108.109326\n",
       "12     120  278563.539951  4.847925e+06  286749.231588  354831.018976\n",
       "13      60  383198.054522  9.262640e+06  371024.454712  514815.723463\n",
       "14      20  669485.736143  2.520883e+07  593031.772854  995578.624221"
      ]
     },
     "execution_count": 8,
     "metadata": {},
     "output_type": "execute_result"
    }
   ],
   "source": [
    "SP2012"
   ]
  },
  {
   "cell_type": "code",
   "execution_count": 11,
   "metadata": {},
   "outputs": [
    {
     "name": "stdout",
     "output_type": "stream",
     "text": [
      "graph will be loaded as:  <class 'tnetwork.dyn_graph.dyn_graph_sn.DynGraphSN'>\n",
      "==== 172800  ====\n",
      "==== 86400  ====\n",
      "==== 43200  ====\n",
      "==== 21600  ====\n",
      "==== 14400  ====\n",
      "==== 7200  ====\n",
      "==== 3600  ====\n",
      "==== 1800  ====\n",
      "==== 900  ====\n",
      "==== 300  ====\n",
      "==== 120  ====\n",
      "==== 60  ====\n",
      "==== 20  ====\n"
     ]
    }
   ],
   "source": [
    "h = 3600\n",
    "d=h*24\n",
    "tts=[2*d,d,h*12,h*6,h*4,h*2,h,60*30,60*15,60*5,60*2,60,20]\n",
    "\n",
    "#functions=[score_ls,score_sn_m,score_ig,score_sn_e,score_update,stability,synchronicity]\n",
    "#names= [\"$LS$\",\"$SN$\",\"$IG$\",\"sn_e\",\"update\",\"stability\",\"synchronicity\"]\n",
    "\n",
    "\n",
    "#tts = [int(day)]\n",
    "\n",
    "Hospital = compute_stats(tn.graph_socioPatterns_Hospital(format=tn.DynGraphSN),tts,functions,names)"
   ]
  },
  {
   "cell_type": "code",
   "execution_count": 12,
   "metadata": {},
   "outputs": [
    {
     "name": "stdout",
     "output_type": "stream",
     "text": [
      "graph will be loaded as:  <class 'tnetwork.dyn_graph.dyn_graph_sn.DynGraphSN'>\n",
      "==== 86400  ====\n",
      "==== 43200  ====\n",
      "==== 21600  ====\n",
      "==== 14400  ====\n",
      "==== 7200  ====\n",
      "==== 3600  ====\n",
      "==== 1800  ====\n",
      "==== 900  ====\n",
      "==== 300  ====\n",
      "==== 120  ====\n",
      "==== 60  ====\n",
      "==== 20  ====\n"
     ]
    }
   ],
   "source": [
    "h = 3600\n",
    "d=h*24\n",
    "tts=[d,h*12,h*6,h*4,h*2,h,60*30,60*15,60*5,60*2,60,20]\n",
    "\n",
    "#functions=[score_ls,score_sn_m,score_ig,score_sn_e,score_update,stability,synchronicity]\n",
    "#names= [\"$LS$\",\"$SN$\",\"$IG$\",\"sn_e\",\"update\",\"stability\",\"synchronicity\"]\n",
    "\n",
    "\n",
    "#tts = [int(day)]\n",
    "\n",
    "Primary_School = compute_stats(tn.graph_socioPatterns_Primary_School(tn.DynGraphSN),tts,functions,names)"
   ]
  },
  {
   "cell_type": "code",
   "execution_count": 35,
   "metadata": {},
   "outputs": [
    {
     "name": "stderr",
     "output_type": "stream",
     "text": [
      "/Users/remycazabet/Documents/GitHub/tnetwork/tnetwork/readwrite/generic_io.py:81: SettingWithCopyWarning: \n",
      "A value is trying to be set on a copy of a slice from a DataFrame.\n",
      "Try using .loc[row_indexer,col_indexer] = value instead\n",
      "\n",
      "See the caveats in the documentation: https://pandas.pydata.org/pandas-docs/stable/user_guide/indexing.html#returning-a-view-versus-a-copy\n",
      "  interactions[\"e\"] = interactions.apply(lambda row: tuple(sorted([row[source], row[target]])), axis=1)\n"
     ]
    },
    {
     "name": "stdout",
     "output_type": "stream",
     "text": [
      "graph will be loaded as:  <class 'tnetwork.dyn_graph.dyn_graph_sn.DynGraphSN'>\n",
      "==== 31536000  ====\n",
      "==== 2592000  ====\n",
      "==== 604800  ====\n",
      "==== 86400  ====\n",
      "==== 3600  ====\n",
      "==== 60  ====\n"
     ]
    }
   ],
   "source": [
    "h = 3600\n",
    "d=h*24\n",
    "tts=[d*365,d*30,d*7,d,h,60]\n",
    "#functions=[score_ls,score_sn_m,score_ig,score_sn_e,score_update,stability,synchronicity]\n",
    "#names= [\"$LS$\",\"$SN$\",\"$IG$\",\"sn_e\",\"update\",\"stability\",\"synchronicity\"]\n",
    "\n",
    "\n",
    "#tts = [int(day)]\n",
    "\n",
    "ENRON = compute_stats(\n",
    "    tn.read_interactions(\"/Users/remycazabet/Downloads/ia-enron-employees/ia-enron-employees.edges\",format=tn.DynGraphSN,sep=\" \",columns=[\"n1\",\"n2\",\"?\",\"time\"])\n",
    "    ,tts,functions,names)"
   ]
  },
  {
   "cell_type": "code",
   "execution_count": null,
   "metadata": {},
   "outputs": [],
   "source": []
  },
  {
   "cell_type": "code",
   "execution_count": null,
   "metadata": {},
   "outputs": [],
   "source": []
  },
  {
   "cell_type": "code",
   "execution_count": null,
   "metadata": {},
   "outputs": [],
   "source": []
  },
  {
   "cell_type": "code",
   "execution_count": null,
   "metadata": {},
   "outputs": [],
   "source": []
  },
  {
   "cell_type": "code",
   "execution_count": 20,
   "metadata": {},
   "outputs": [
    {
     "name": "stdout",
     "output_type": "stream",
     "text": [
      "nb_interactions: 1340 nb_unique_Edges: 280 nb_time: 19 nb_nodes: 25\n",
      "nb intervals:  827\n",
      "sn_m : 8001.270089029274\n",
      "ls : 9482.202038052455\n",
      "ig : 10816.05127727374\n",
      "sn_e : 12702.711746563129\n",
      "graph will be loaded as:  <class 'tnetwork.dyn_graph.dyn_graph_sn.DynGraphSN'>\n"
     ]
    }
   ],
   "source": [
    "largeG = tn.read_interactions(\"/Users/remycazabet/Downloads/mammalia-primate-association/mammalia-primate-association.edges\",sep=\" \",columns=[\"n1\",\"n2\",\"__\",\"time\"])"
   ]
  },
  {
   "cell_type": "code",
   "execution_count": 19,
   "metadata": {},
   "outputs": [
    {
     "name": "stdout",
     "output_type": "stream",
     "text": [
      "==== 250  ====\n",
      "==== 100  ====\n",
      "==== 50  ====\n",
      "==== 30  ====\n",
      "==== 15  ====\n",
      "==== 10  ====\n",
      "==== 7  ====\n",
      "==== 5  ====\n",
      "==== 4  ====\n",
      "==== 3  ====\n",
      "==== 2  ====\n",
      "==== 1  ====\n"
     ]
    }
   ],
   "source": [
    "#%load_ext snakeviz\n",
    "\n",
    "#tts=[d*365*10,d*365*5,d*365*2,d*356]\n",
    "tts=[250,100,50,30,15,10,7,5,4,3,2,1]\n",
    "#functions=[score_ls,score_sn_m,score_ig]\n",
    "#names= [\"$LS$\",\"$SN$\",\"$IG$\"]\n",
    "\n",
    "\n",
    "#tts = [int(day)]\n",
    "#%snakeviz\n",
    "gGOT = tn.graph_GOT()\n",
    "\n",
    "GOT = compute_stats(gGOT,tts,functions,names)\n"
   ]
  },
  {
   "cell_type": "code",
   "execution_count": 21,
   "metadata": {},
   "outputs": [
    {
     "name": "stdout",
     "output_type": "stream",
     "text": [
      "==== 10  ====\n",
      "==== 5  ====\n",
      "==== 2  ====\n",
      "==== 1  ====\n"
     ]
    }
   ],
   "source": [
    "#%load_ext snakeviz\n",
    "\n",
    "h = 3600\n",
    "d=h*24\n",
    "#tts=[d*365*10,d*365*5,d*365*2,d*356]\n",
    "tts=[10,5,2,1]\n",
    "#functions=[score_ls,score_sn_m,score_ig]\n",
    "#names= [\"$LS$\",\"$SN$\",\"$IG$\"]\n",
    "\n",
    "\n",
    "#tts = [int(day)]\n",
    "#%snakeviz\n",
    "primate = compute_stats(largeG,tts,functions,names)\n"
   ]
  },
  {
   "cell_type": "code",
   "execution_count": 147,
   "metadata": {},
   "outputs": [
    {
     "data": {
      "text/html": [
       "<div>\n",
       "<style scoped>\n",
       "    .dataframe tbody tr th:only-of-type {\n",
       "        vertical-align: middle;\n",
       "    }\n",
       "\n",
       "    .dataframe tbody tr th {\n",
       "        vertical-align: top;\n",
       "    }\n",
       "\n",
       "    .dataframe thead th {\n",
       "        text-align: right;\n",
       "    }\n",
       "</style>\n",
       "<table border=\"1\" class=\"dataframe\">\n",
       "  <thead>\n",
       "    <tr style=\"text-align: right;\">\n",
       "      <th></th>\n",
       "      <th>tts</th>\n",
       "      <th>$LS$</th>\n",
       "      <th>$SN_M$</th>\n",
       "      <th>$IG$</th>\n",
       "      <th>$SN_E$</th>\n",
       "    </tr>\n",
       "  </thead>\n",
       "  <tbody>\n",
       "    <tr>\n",
       "      <th>0</th>\n",
       "      <td>10</td>\n",
       "      <td>3344.559466</td>\n",
       "      <td>3162.559466</td>\n",
       "      <td>3931.927967</td>\n",
       "      <td>4330.073969</td>\n",
       "    </tr>\n",
       "    <tr>\n",
       "      <th>1</th>\n",
       "      <td>5</td>\n",
       "      <td>4584.559466</td>\n",
       "      <td>3728.559466</td>\n",
       "      <td>4690.294752</td>\n",
       "      <td>6658.002064</td>\n",
       "    </tr>\n",
       "    <tr>\n",
       "      <th>2</th>\n",
       "      <td>2</td>\n",
       "      <td>6841.919118</td>\n",
       "      <td>5149.088791</td>\n",
       "      <td>6885.846709</td>\n",
       "      <td>9938.518434</td>\n",
       "    </tr>\n",
       "    <tr>\n",
       "      <th>3</th>\n",
       "      <td>1</td>\n",
       "      <td>9301.628944</td>\n",
       "      <td>7715.618116</td>\n",
       "      <td>10748.084437</td>\n",
       "      <td>12567.031801</td>\n",
       "    </tr>\n",
       "  </tbody>\n",
       "</table>\n",
       "</div>"
      ],
      "text/plain": [
       "   tts         $LS$       $SN_M$          $IG$        $SN_E$\n",
       "0   10  3344.559466  3162.559466   3931.927967   4330.073969\n",
       "1    5  4584.559466  3728.559466   4690.294752   6658.002064\n",
       "2    2  6841.919118  5149.088791   6885.846709   9938.518434\n",
       "3    1  9301.628944  7715.618116  10748.084437  12567.031801"
      ]
     },
     "execution_count": 147,
     "metadata": {},
     "output_type": "execute_result"
    }
   ],
   "source": [
    "primate"
   ]
  },
  {
   "cell_type": "code",
   "execution_count": 22,
   "metadata": {},
   "outputs": [],
   "source": [
    "def print_lines(long):\n",
    "    plt.axvline(60,color=\"grey\",zorder=1)\n",
    "    plt.axvline(3600,color=\"grey\",zorder=1)\n",
    "    plt.axvline(3600*24,color=\"grey\",zorder=1)\n",
    "    plt.axvline(3600*24*7,color=\"grey\",zorder=1)\n",
    "    plt.axvline(3600*24*30,color=\"grey\",zorder=1)\n",
    "    plt.axvline(3600*24*365,color=\"grey\",zorder=1)\n",
    "\n",
    "\n",
    "\n",
    "    y0=min(long[\"value\"])*0.9\n",
    "    plt.text(60,y0,'m',rotation=0)\n",
    "    plt.text(3600,y0,'h',rotation=0)\n",
    "    plt.text(3600*24,y0,'d',rotation=0)\n",
    "    plt.text(3600*24*7,y0,'W',rotation=0)\n",
    "    plt.text(3600*24*30,y0,'M',rotation=0)\n",
    "    plt.text(3600*24*365,y0,'Y',rotation=0)"
   ]
  },
  {
   "cell_type": "code",
   "execution_count": 23,
   "metadata": {},
   "outputs": [
    {
     "data": {
      "image/png": "[encoded data removed]",
      "text/plain": [
       "<Figure size 432x288 with 1 Axes>"
      ]
     },
     "metadata": {
      "needs_background": "light"
     },
     "output_type": "display_data"
    }
   ],
   "source": [
    "long = pd.melt(SP2012,id_vars=['tts'],value_vars=names)\n",
    "long[\"value\"]=long[\"value\"]\n",
    "long[\"encoding\"]=long[\"variable\"]\n",
    "ax = sns.lineplot(x=\"tts\",y=\"value\",data=long,hue=\"encoding\",markers=True,style=\"encoding\")\n",
    "ax.set_xscale('log')\n",
    "ax.set_yscale('log')\n",
    "ax.set_xlabel(\"window size\")\n",
    "ax.set_ylabel(\"code length\")\n",
    "print_lines(long)"
   ]
  },
  {
   "cell_type": "code",
   "execution_count": 24,
   "metadata": {},
   "outputs": [
    {
     "data": {
      "image/png": "[encoded data removed]",
      "text/plain": [
       "<Figure size 432x288 with 1 Axes>"
      ]
     },
     "metadata": {
      "needs_background": "light"
     },
     "output_type": "display_data"
    }
   ],
   "source": [
    "long = pd.melt(Hospital,id_vars=['tts'],value_vars=names)\n",
    "long[\"value\"]=np.log(long[\"value\"])\n",
    "long[\"encoding\"]=long[\"variable\"]\n",
    "ax = sns.lineplot(x=\"tts\",y=\"value\",data=long,hue=\"encoding\",markers=True,style=\"encoding\")\n",
    "ax.set_xscale('log')\n",
    "ax.set_xlabel(\"window size\")\n",
    "ax.set_ylabel(\"code length\")\n",
    "print_lines(long)"
   ]
  },
  {
   "cell_type": "code",
   "execution_count": 25,
   "metadata": {},
   "outputs": [
    {
     "data": {
      "image/png": "[encoded data removed]",
      "text/plain": [
       "<Figure size 432x288 with 1 Axes>"
      ]
     },
     "metadata": {
      "needs_background": "light"
     },
     "output_type": "display_data"
    }
   ],
   "source": [
    "long = pd.melt(Primary_School,id_vars=['tts'],value_vars=names)\n",
    "long[\"value\"]=np.log(long[\"value\"])\n",
    "long[\"encoding\"]=long[\"variable\"]\n",
    "ax = sns.lineplot(x=\"tts\",y=\"value\",data=long,hue=\"encoding\",markers=True,style=\"encoding\")\n",
    "ax.set_xscale('log')\n",
    "ax.set_xlabel(\"window size\")\n",
    "ax.set_ylabel(\"code length\")\n",
    "print_lines(long)"
   ]
  },
  {
   "cell_type": "code",
   "execution_count": 36,
   "metadata": {},
   "outputs": [
    {
     "data": {
      "image/png": "[encoded data removed]",
      "text/plain": [
       "<Figure size 432x288 with 1 Axes>"
      ]
     },
     "metadata": {
      "needs_background": "light"
     },
     "output_type": "display_data"
    }
   ],
   "source": [
    "long = pd.melt(ENRON,id_vars=['tts'],value_vars=names)\n",
    "long[\"value\"]=np.log(long[\"value\"])\n",
    "long[\"encoding\"]=long[\"variable\"]\n",
    "ax = sns.lineplot(x=\"tts\",y=\"value\",data=long,hue=\"encoding\",markers=True,style=\"encoding\")\n",
    "ax.set_xscale('log')\n",
    "ax.set_xlabel(\"window size\")\n",
    "ax.set_ylabel(\"code length\")\n",
    "print_lines(long)"
   ]
  },
  {
   "cell_type": "code",
   "execution_count": 27,
   "metadata": {},
   "outputs": [
    {
     "data": {
      "text/plain": [
       "Text(0, 0.5, 'code length')"
      ]
     },
     "execution_count": 27,
     "metadata": {},
     "output_type": "execute_result"
    },
    {
     "data": {
      "image/png": "[encoded data removed]",
      "text/plain": [
       "<Figure size 432x288 with 1 Axes>"
      ]
     },
     "metadata": {
      "needs_background": "light"
     },
     "output_type": "display_data"
    }
   ],
   "source": [
    "long = pd.melt(primate,id_vars=['tts'],value_vars=names)\n",
    "long[\"value\"]=np.log(long[\"value\"])\n",
    "long[\"encoding\"]=long[\"variable\"]\n",
    "ax = sns.lineplot(x=\"tts\",y=\"value\",data=long,hue=\"encoding\",markers=True,style=\"encoding\")\n",
    "ax.set_xscale('log')\n",
    "ax.set_xlabel(\"window size\")\n",
    "ax.set_ylabel(\"code length\")"
   ]
  },
  {
   "cell_type": "code",
   "execution_count": 28,
   "metadata": {},
   "outputs": [
    {
     "data": {
      "text/plain": [
       "Text(0, 0.5, 'code length')"
      ]
     },
     "execution_count": 28,
     "metadata": {},
     "output_type": "execute_result"
    },
    {
     "data": {
      "image/png": "[encoded data removed]",
      "text/plain": [
       "<Figure size 432x288 with 1 Axes>"
      ]
     },
     "metadata": {
      "needs_background": "light"
     },
     "output_type": "display_data"
    }
   ],
   "source": [
    "long = pd.melt(GOT,id_vars=['tts'],value_vars=names)\n",
    "long[\"value\"]=np.log(long[\"value\"])\n",
    "long[\"encoding\"]=long[\"variable\"]\n",
    "ax = sns.lineplot(x=\"tts\",y=\"value\",data=long,hue=\"encoding\",markers=True,style=\"encoding\")\n",
    "ax.set_xscale('log')\n",
    "ax.set_xlabel(\"window size\")\n",
    "ax.set_ylabel(\"code length\")"
   ]
  },
  {
   "cell_type": "code",
   "execution_count": 45,
   "metadata": {},
   "outputs": [
    {
     "data": {
      "text/plain": [
       "1031"
      ]
     },
     "execution_count": 45,
     "metadata": {},
     "output_type": "execute_result"
    }
   ],
   "source": [
    "len(gGOT.snapshots_timesteps())"
   ]
  },
  {
   "cell_type": "code",
   "execution_count": null,
   "metadata": {},
   "outputs": [],
   "source": []
  },
  {
   "cell_type": "code",
   "execution_count": null,
   "metadata": {},
   "outputs": [],
   "source": []
  },
  {
   "cell_type": "code",
   "execution_count": null,
   "metadata": {},
   "outputs": [],
   "source": [
    "tn.re"
   ]
  },
  {
   "cell_type": "code",
   "execution_count": null,
   "metadata": {},
   "outputs": [],
   "source": []
  },
  {
   "cell_type": "code",
   "execution_count": null,
   "metadata": {},
   "outputs": [],
   "source": []
  },
  {
   "cell_type": "code",
   "execution_count": null,
   "metadata": {},
   "outputs": [],
   "source": []
  },
  {
   "cell_type": "code",
   "execution_count": null,
   "metadata": {},
   "outputs": [],
   "source": []
  },
  {
   "cell_type": "code",
   "execution_count": 27,
   "metadata": {},
   "outputs": [],
   "source": []
  },
  {
   "cell_type": "code",
   "execution_count": 32,
   "metadata": {},
   "outputs": [
    {
     "name": "stdout",
     "output_type": "stream",
     "text": [
      "graph will be loaded as:  <class 'tnetwork.dyn_graph.dyn_graph_ig.DynGraphIG'>\n"
     ]
    }
   ],
   "source": [
    "g = tn.graph_socioPatterns_Primary_School(format=tn.DynGraphIG)\n",
    "g.write_interactions(\"SP_PS.IG\")"
   ]
  },
  {
   "cell_type": "code",
   "execution_count": 33,
   "metadata": {},
   "outputs": [
    {
     "name": "stdout",
     "output_type": "stream",
     "text": [
      "graph will be loaded as:  <class 'tnetwork.dyn_graph.dyn_graph_sn.DynGraphSN'>\n"
     ]
    }
   ],
   "source": [
    "g = tn.graph_socioPatterns_Primary_School(format=tn.DynGraphSN)\n",
    "g.write_interactions(\"SP_PS.SN\")"
   ]
  },
  {
   "cell_type": "code",
   "execution_count": 34,
   "metadata": {},
   "outputs": [
    {
     "name": "stdout",
     "output_type": "stream",
     "text": [
      "graph will be loaded as:  <class 'tnetwork.dyn_graph.dyn_graph_ls.DynGraphLS'>\n"
     ]
    }
   ],
   "source": [
    "g = tn.graph_socioPatterns_Primary_School(format=tn.DynGraphLS)\n",
    "g.write_interactions(\"SP_PS.LS\")"
   ]
  },
  {
   "cell_type": "code",
   "execution_count": 37,
   "metadata": {},
   "outputs": [
    {
     "name": "stderr",
     "output_type": "stream",
     "text": [
      "/Users/remycazabet/Documents/GitHub/tnetwork/tnetwork/readwrite/generic_io.py:81: SettingWithCopyWarning: \n",
      "A value is trying to be set on a copy of a slice from a DataFrame.\n",
      "Try using .loc[row_indexer,col_indexer] = value instead\n",
      "\n",
      "See the caveats in the documentation: https://pandas.pydata.org/pandas-docs/stable/user_guide/indexing.html#returning-a-view-versus-a-copy\n",
      "  interactions[\"e\"] = interactions.apply(lambda row: tuple(sorted([row[source], row[target]])), axis=1)\n"
     ]
    },
    {
     "name": "stdout",
     "output_type": "stream",
     "text": [
      "graph will be loaded as:  <class 'tnetwork.dyn_graph.dyn_graph_sn.DynGraphSN'>\n"
     ]
    }
   ],
   "source": [
    "g = tn.read_interactions(\"/Users/remycazabet/Downloads/ia-enron-employees/ia-enron-employees.edges\",format=tn.DynGraphSN,sep=\" \",columns=[\"n1\",\"n2\",\"?\",\"time\"])\n",
    "g.write_interactions(\"ENRON.SN\")"
   ]
  },
  {
   "cell_type": "code",
   "execution_count": 41,
   "metadata": {},
   "outputs": [
    {
     "name": "stderr",
     "output_type": "stream",
     "text": [
      "/Users/remycazabet/Documents/GitHub/tnetwork/tnetwork/readwrite/generic_io.py:81: SettingWithCopyWarning: \n",
      "A value is trying to be set on a copy of a slice from a DataFrame.\n",
      "Try using .loc[row_indexer,col_indexer] = value instead\n",
      "\n",
      "See the caveats in the documentation: https://pandas.pydata.org/pandas-docs/stable/user_guide/indexing.html#returning-a-view-versus-a-copy\n",
      "  interactions[\"e\"] = interactions.apply(lambda row: tuple(sorted([row[source], row[target]])), axis=1)\n"
     ]
    },
    {
     "name": "stdout",
     "output_type": "stream",
     "text": [
      "graph will be loaded as:  <class 'tnetwork.dyn_graph.dyn_graph_ig.DynGraphIG'>\n"
     ]
    }
   ],
   "source": [
    "g = tn.read_interactions(\"/Users/remycazabet/Downloads/ia-enron-employees/ia-enron-employees.edges\",format=tn.DynGraphIG,sep=\" \",columns=[\"n1\",\"n2\",\"?\",\"time\"],frequency=60)\n",
    "g.write_interactions(\"ENRON.IG\")"
   ]
  },
  {
   "cell_type": "code",
   "execution_count": 39,
   "metadata": {},
   "outputs": [
    {
     "name": "stdout",
     "output_type": "stream",
     "text": [
      "graph will be loaded as:  <class 'tnetwork.dyn_graph.dyn_graph_ls.DynGraphLS'>\n"
     ]
    }
   ],
   "source": [
    "g = tn.read_interactions(\"/Users/remycazabet/Downloads/ia-enron-employees/ia-enron-employees.edges\",format=tn.DynGraphLS,sep=\" \",columns=[\"n1\",\"n2\",\"?\",\"time\"])\n",
    "g.write_interactions(\"ENRON.LS\")"
   ]
  },
  {
   "cell_type": "code",
   "execution_count": null,
   "metadata": {},
   "outputs": [],
   "source": []
  }
 ],
 "metadata": {
  "kernelspec": {
   "display_name": "Python 3",
   "language": "python",
   "name": "python3"
  },
  "language_info": {
   "codemirror_mode": {
    "name": "ipython",
    "version": 3
   },
   "file_extension": ".py",
   "mimetype": "text/x-python",
   "name": "python",
   "nbconvert_exporter": "python",
   "pygments_lexer": "ipython3",
   "version": "3.7.5"
  }
 },
 "nbformat": 4,
 "nbformat_minor": 2
}
