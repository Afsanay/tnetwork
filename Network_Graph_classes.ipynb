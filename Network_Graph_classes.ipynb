{
 "cells": [
  {
   "cell_type": "markdown",
   "metadata": {
    "colab_type": "text",
    "id": "rXGlQyXR_Y_S"
   },
   "source": [
    "# Table of Contents\n",
    "\n",
    "1. [Creating a simple graph](#creating)\n",
    "  *   [Using a snapshot representation](#sn)\n",
    "  *  [Using an interval graph representation](#ig) \n",
    "2. [Visualization](#vizu)\n",
    "3. [Conversion between snapshots and interval graphs](#conversion)\n",
    "4. [Aggregation](#aggregation)"
   ]
  },
  {
   "cell_type": "markdown",
   "metadata": {},
   "source": [
    "If tnerwork library is not installed, you need to install it, for instance using the following command"
   ]
  },
  {
   "cell_type": "code",
   "execution_count": 5,
   "metadata": {},
   "outputs": [],
   "source": [
    "#%%capture #avoid printing output\n",
    "#!pip install --upgrade git+https://github.com/Yquetzal/tnetwork.git"
   ]
  },
  {
   "cell_type": "code",
   "execution_count": 6,
   "metadata": {},
   "outputs": [],
   "source": [
    "import tnetwork as tn"
   ]
  },
  {
   "cell_type": "markdown",
   "metadata": {
    "colab_type": "text",
    "id": "O56VJX-03n2K"
   },
   "source": [
    "<a id='creating'></a>\n",
    "# Creating simple dynamic graphs and accessing their properties\n",
    "We will represent a graph with similar properties using snapshots and interval graphs\n",
    "<a id='sn'></a>\n",
    "\n",
    "\n"
   ]
  },
  {
   "cell_type": "markdown",
   "metadata": {
    "colab_type": "text",
    "id": "dQ4WmmdmBZhz"
   },
   "source": [
    "## Using a snapshot representation\n",
    "`DynGraphSN` is the class used to represent dynamic networks with snapshots (SN)\n"
   ]
  },
  {
   "cell_type": "code",
   "execution_count": 39,
   "metadata": {
    "colab": {},
    "colab_type": "code",
    "id": "viLCeEeVgFga"
   },
   "outputs": [],
   "source": [
    "dg_sn = tn.DynGraphSN()\n",
    "\n",
    "dg_sn.add_node_presence(\"a\",1) #add node a in snapshot 1\n",
    "dg_sn.add_nodes_presence_from([\"a\",\"b\",\"c\"],2) #add nodes a,b,c in snapshot 2\n",
    "dg_sn.add_nodes_presence_from(\"d\",[2,5]) #add node in snapshots 2 & 3\n",
    "\n",
    "dg_sn.add_interaction(\"a\",\"b\",2) #link a and b in snapshot 2\n",
    "dg_sn.add_interactions_from((\"b\",\"d\"),[2,3]) #link b and d in snapshots 2 and 3"
   ]
  },
  {
   "cell_type": "markdown",
   "metadata": {
    "colab_type": "text",
    "id": "Em7-bNvL38pL"
   },
   "source": [
    "<a id='ig'></a>\n",
    "\n",
    "## Using an interval graph representation.\n",
    "`DynGraphIG` is the class used to represent dynamic networks with Interval Graphs (IG)\n",
    "\n",
    "\n",
    "Note the similarity between the functions used.\n",
    "\n",
    "Both graphs are very similar if we consider that the snapshots of `dg_sn` have a duration of 1."
   ]
  },
  {
   "cell_type": "code",
   "execution_count": 40,
   "metadata": {
    "colab": {},
    "colab_type": "code",
    "id": "tONhImcRgrEk"
   },
   "outputs": [],
   "source": [
    "dg_ig = tn.DynGraphIG()\n",
    "\n",
    "dg_ig.add_node_presence(\"a\",(1,2)) #add node a from time 1 to 2 (1,2)\n",
    "dg_ig.add_nodes_presence_from([\"a\",\"b\",\"c\"],(2,3)) # add ndoes a,b,c from 2 to 3\n",
    "dg_ig.add_nodes_presence_from(\"d\",(2,6)) #add node in snapshots 2 & 3\n",
    "\n",
    "dg_ig.add_interaction(\"a\",\"b\",(2,3)) # link nodes a and b from 2 to 3 \n",
    "dg_ig.add_interactions_from((\"b\",\"d\"),(2,4))"
   ]
  },
  {
   "cell_type": "markdown",
   "metadata": {
    "colab_type": "text",
    "id": "cTPffJ614gr1"
   },
   "source": [
    "## Accessing functions\n",
    "Using accessing functions, we can check that both graphs are very similar\n",
    "(Note that intervals are coded using the tnetwork.Intervals class, and are printed as \\[start,end\\[. Therefore, 2 snapshots of duration 1 at times 1 and 2 code a situation similar to an interval \\[1,3["
   ]
  },
  {
   "cell_type": "code",
   "execution_count": 41,
   "metadata": {
    "colab": {
     "base_uri": "https://localhost:8080/",
     "height": 85
    },
    "colab_type": "code",
    "id": "CVaBJQdaxTPI",
    "outputId": "9bc7f7d7-debe-4ef1-cb3f-9a8e8848e973"
   },
   "outputs": [
    {
     "name": "stdout",
     "output_type": "stream",
     "text": [
      "[('a', 'b'), ('b', 'd')]\n",
      "[('a', 'b'), ('b', 'd')]\n",
      "[('b', 'd')]\n",
      "[('b', 'd')]\n"
     ]
    }
   ],
   "source": [
    "print(dg_sn.graph_at_time(2).edges)\n",
    "print(dg_ig.graph_at_time(2).edges)\n",
    "print(dg_sn.graph_at_time(3).edges)\n",
    "print(dg_ig.graph_at_time(3).edges)"
   ]
  },
  {
   "cell_type": "code",
   "execution_count": 42,
   "metadata": {
    "colab": {
     "base_uri": "https://localhost:8080/",
     "height": 51
    },
    "colab_type": "code",
    "id": "KnreFdJailIu",
    "outputId": "a2c84c94-42bb-4938-86b1-2646400b6690"
   },
   "outputs": [
    {
     "name": "stdout",
     "output_type": "stream",
     "text": [
      "{'a': [1, 2], 'b': [2, 3], 'c': [2], 'd': [2, 3, 5]}\n",
      "{'a': [1,3[ , 'b': [2,4[ , 'c': [2,3[ , 'd': [2,6[ }\n"
     ]
    }
   ],
   "source": [
    "print(dg_sn.node_presence())\n",
    "print(dg_ig.node_presence())"
   ]
  },
  {
   "cell_type": "markdown",
   "metadata": {
    "colab_type": "text",
    "id": "diRsLh9n5cxs"
   },
   "source": [
    "<a id='vizu'></a>\n",
    "\n",
    "# Visualization\n",
    "We can use a basic visualization to compare nodes presence of both representation. \n",
    "\n",
    "See the notebook on visualization to see more on that."
   ]
  },
  {
   "cell_type": "code",
   "execution_count": 43,
   "metadata": {
    "colab": {
     "base_uri": "https://localhost:8080/",
     "height": 1005
    },
    "colab_type": "code",
    "id": "wBgAA-DshLGt",
    "outputId": "68d3b911-17f5-4ac7-daf2-cdb995fd5791"
   },
   "outputs": [
    {
     "name": "stderr",
     "output_type": "stream",
     "text": [
      "/Users/cazabetremy/anaconda3/lib/python3.6/site-packages/numpy/core/numeric.py:2591: FutureWarning: elementwise comparison failed; returning scalar instead, but in the future will perform elementwise comparison\n",
      "  return bool(asarray(a1 == a2).all())\n"
     ]
    },
    {
     "data": {
      "text/html": [
       "\n",
       "    <div class=\"bk-root\">\n",
       "        <a href=\"https://bokeh.pydata.org\" target=\"_blank\" class=\"bk-logo bk-logo-small bk-logo-notebook\"></a>\n",
       "        <span id=\"1297\">Loading BokehJS ...</span>\n",
       "    </div>"
      ]
     },
     "metadata": {},
     "output_type": "display_data"
    },
    {
     "data": {
      "application/javascript": [
       "\n",
       "(function(root) {\n",
       "  function now() {\n",
       "    return new Date();\n",
       "  }\n",
       "\n",
       "  var force = true;\n",
       "\n",
       "  if (typeof (root._bokeh_onload_callbacks) === \"undefined\" || force === true) {\n",
       "    root._bokeh_onload_callbacks = [];\n",
       "    root._bokeh_is_loading = undefined;\n",
       "  }\n",
       "\n",
       "  var JS_MIME_TYPE = 'application/javascript';\n",
       "  var HTML_MIME_TYPE = 'text/html';\n",
       "  var EXEC_MIME_TYPE = 'application/vnd.bokehjs_exec.v0+json';\n",
       "  var CLASS_NAME = 'output_bokeh rendered_html';\n",
       "\n",
       "  /**\n",
       "   * Render data to the DOM node\n",
       "   */\n",
       "  function render(props, node) {\n",
       "    var script = document.createElement(\"script\");\n",
       "    node.appendChild(script);\n",
       "  }\n",
       "\n",
       "  /**\n",
       "   * Handle when an output is cleared or removed\n",
       "   */\n",
       "  function handleClearOutput(event, handle) {\n",
       "    var cell = handle.cell;\n",
       "\n",
       "    var id = cell.output_area._bokeh_element_id;\n",
       "    var server_id = cell.output_area._bokeh_server_id;\n",
       "    // Clean up Bokeh references\n",
       "    if (id != null && id in Bokeh.index) {\n",
       "      Bokeh.index[id].model.document.clear();\n",
       "      delete Bokeh.index[id];\n",
       "    }\n",
       "\n",
       "    if (server_id !== undefined) {\n",
       "      // Clean up Bokeh references\n",
       "      var cmd = \"from bokeh.io.state import curstate; print(curstate().uuid_to_server['\" + server_id + \"'].get_sessions()[0].document.roots[0]._id)\";\n",
       "      cell.notebook.kernel.execute(cmd, {\n",
       "        iopub: {\n",
       "          output: function(msg) {\n",
       "            var id = msg.content.text.trim();\n",
       "            if (id in Bokeh.index) {\n",
       "              Bokeh.index[id].model.document.clear();\n",
       "              delete Bokeh.index[id];\n",
       "            }\n",
       "          }\n",
       "        }\n",
       "      });\n",
       "      // Destroy server and session\n",
       "      var cmd = \"import bokeh.io.notebook as ion; ion.destroy_server('\" + server_id + \"')\";\n",
       "      cell.notebook.kernel.execute(cmd);\n",
       "    }\n",
       "  }\n",
       "\n",
       "  /**\n",
       "   * Handle when a new output is added\n",
       "   */\n",
       "  function handleAddOutput(event, handle) {\n",
       "    var output_area = handle.output_area;\n",
       "    var output = handle.output;\n",
       "\n",
       "    // limit handleAddOutput to display_data with EXEC_MIME_TYPE content only\n",
       "    if ((output.output_type != \"display_data\") || (!output.data.hasOwnProperty(EXEC_MIME_TYPE))) {\n",
       "      return\n",
       "    }\n",
       "\n",
       "    var toinsert = output_area.element.find(\".\" + CLASS_NAME.split(' ')[0]);\n",
       "\n",
       "    if (output.metadata[EXEC_MIME_TYPE][\"id\"] !== undefined) {\n",
       "      toinsert[toinsert.length - 1].firstChild.textContent = output.data[JS_MIME_TYPE];\n",
       "      // store reference to embed id on output_area\n",
       "      output_area._bokeh_element_id = output.metadata[EXEC_MIME_TYPE][\"id\"];\n",
       "    }\n",
       "    if (output.metadata[EXEC_MIME_TYPE][\"server_id\"] !== undefined) {\n",
       "      var bk_div = document.createElement(\"div\");\n",
       "      bk_div.innerHTML = output.data[HTML_MIME_TYPE];\n",
       "      var script_attrs = bk_div.children[0].attributes;\n",
       "      for (var i = 0; i < script_attrs.length; i++) {\n",
       "        toinsert[toinsert.length - 1].firstChild.setAttribute(script_attrs[i].name, script_attrs[i].value);\n",
       "      }\n",
       "      // store reference to server id on output_area\n",
       "      output_area._bokeh_server_id = output.metadata[EXEC_MIME_TYPE][\"server_id\"];\n",
       "    }\n",
       "  }\n",
       "\n",
       "  function register_renderer(events, OutputArea) {\n",
       "\n",
       "    function append_mime(data, metadata, element) {\n",
       "      // create a DOM node to render to\n",
       "      var toinsert = this.create_output_subarea(\n",
       "        metadata,\n",
       "        CLASS_NAME,\n",
       "        EXEC_MIME_TYPE\n",
       "      );\n",
       "      this.keyboard_manager.register_events(toinsert);\n",
       "      // Render to node\n",
       "      var props = {data: data, metadata: metadata[EXEC_MIME_TYPE]};\n",
       "      render(props, toinsert[toinsert.length - 1]);\n",
       "      element.append(toinsert);\n",
       "      return toinsert\n",
       "    }\n",
       "\n",
       "    /* Handle when an output is cleared or removed */\n",
       "    events.on('clear_output.CodeCell', handleClearOutput);\n",
       "    events.on('delete.Cell', handleClearOutput);\n",
       "\n",
       "    /* Handle when a new output is added */\n",
       "    events.on('output_added.OutputArea', handleAddOutput);\n",
       "\n",
       "    /**\n",
       "     * Register the mime type and append_mime function with output_area\n",
       "     */\n",
       "    OutputArea.prototype.register_mime_type(EXEC_MIME_TYPE, append_mime, {\n",
       "      /* Is output safe? */\n",
       "      safe: true,\n",
       "      /* Index of renderer in `output_area.display_order` */\n",
       "      index: 0\n",
       "    });\n",
       "  }\n",
       "\n",
       "  // register the mime type if in Jupyter Notebook environment and previously unregistered\n",
       "  if (root.Jupyter !== undefined) {\n",
       "    var events = require('base/js/events');\n",
       "    var OutputArea = require('notebook/js/outputarea').OutputArea;\n",
       "\n",
       "    if (OutputArea.prototype.mime_types().indexOf(EXEC_MIME_TYPE) == -1) {\n",
       "      register_renderer(events, OutputArea);\n",
       "    }\n",
       "  }\n",
       "\n",
       "  \n",
       "  if (typeof (root._bokeh_timeout) === \"undefined\" || force === true) {\n",
       "    root._bokeh_timeout = Date.now() + 5000;\n",
       "    root._bokeh_failed_load = false;\n",
       "  }\n",
       "\n",
       "  var NB_LOAD_WARNING = {'data': {'text/html':\n",
       "     \"<div style='background-color: #fdd'>\\n\"+\n",
       "     \"<p>\\n\"+\n",
       "     \"BokehJS does not appear to have successfully loaded. If loading BokehJS from CDN, this \\n\"+\n",
       "     \"may be due to a slow or bad network connection. Possible fixes:\\n\"+\n",
       "     \"</p>\\n\"+\n",
       "     \"<ul>\\n\"+\n",
       "     \"<li>re-rerun `output_notebook()` to attempt to load from CDN again, or</li>\\n\"+\n",
       "     \"<li>use INLINE resources instead, as so:</li>\\n\"+\n",
       "     \"</ul>\\n\"+\n",
       "     \"<code>\\n\"+\n",
       "     \"from bokeh.resources import INLINE\\n\"+\n",
       "     \"output_notebook(resources=INLINE)\\n\"+\n",
       "     \"</code>\\n\"+\n",
       "     \"</div>\"}};\n",
       "\n",
       "  function display_loaded() {\n",
       "    var el = document.getElementById(\"1297\");\n",
       "    if (el != null) {\n",
       "      el.textContent = \"BokehJS is loading...\";\n",
       "    }\n",
       "    if (root.Bokeh !== undefined) {\n",
       "      if (el != null) {\n",
       "        el.textContent = \"BokehJS \" + root.Bokeh.version + \" successfully loaded.\";\n",
       "      }\n",
       "    } else if (Date.now() < root._bokeh_timeout) {\n",
       "      setTimeout(display_loaded, 100)\n",
       "    }\n",
       "  }\n",
       "\n",
       "\n",
       "  function run_callbacks() {\n",
       "    try {\n",
       "      root._bokeh_onload_callbacks.forEach(function(callback) { callback() });\n",
       "    }\n",
       "    finally {\n",
       "      delete root._bokeh_onload_callbacks\n",
       "    }\n",
       "    console.info(\"Bokeh: all callbacks have finished\");\n",
       "  }\n",
       "\n",
       "  function load_libs(js_urls, callback) {\n",
       "    root._bokeh_onload_callbacks.push(callback);\n",
       "    if (root._bokeh_is_loading > 0) {\n",
       "      console.log(\"Bokeh: BokehJS is being loaded, scheduling callback at\", now());\n",
       "      return null;\n",
       "    }\n",
       "    if (js_urls == null || js_urls.length === 0) {\n",
       "      run_callbacks();\n",
       "      return null;\n",
       "    }\n",
       "    console.log(\"Bokeh: BokehJS not loaded, scheduling load and callback at\", now());\n",
       "    root._bokeh_is_loading = js_urls.length;\n",
       "    for (var i = 0; i < js_urls.length; i++) {\n",
       "      var url = js_urls[i];\n",
       "      var s = document.createElement('script');\n",
       "      s.src = url;\n",
       "      s.async = false;\n",
       "      s.onreadystatechange = s.onload = function() {\n",
       "        root._bokeh_is_loading--;\n",
       "        if (root._bokeh_is_loading === 0) {\n",
       "          console.log(\"Bokeh: all BokehJS libraries loaded\");\n",
       "          run_callbacks()\n",
       "        }\n",
       "      };\n",
       "      s.onerror = function() {\n",
       "        console.warn(\"failed to load library \" + url);\n",
       "      };\n",
       "      console.log(\"Bokeh: injecting script tag for BokehJS library: \", url);\n",
       "      document.getElementsByTagName(\"head\")[0].appendChild(s);\n",
       "    }\n",
       "  };var element = document.getElementById(\"1297\");\n",
       "  if (element == null) {\n",
       "    console.log(\"Bokeh: ERROR: autoload.js configured with elementid '1297' but no matching script tag was found. \")\n",
       "    return false;\n",
       "  }\n",
       "\n",
       "  var js_urls = [\"https://cdn.pydata.org/bokeh/release/bokeh-1.0.4.min.js\", \"https://cdn.pydata.org/bokeh/release/bokeh-widgets-1.0.4.min.js\", \"https://cdn.pydata.org/bokeh/release/bokeh-tables-1.0.4.min.js\", \"https://cdn.pydata.org/bokeh/release/bokeh-gl-1.0.4.min.js\"];\n",
       "\n",
       "  var inline_js = [\n",
       "    function(Bokeh) {\n",
       "      Bokeh.set_log_level(\"info\");\n",
       "    },\n",
       "    \n",
       "    function(Bokeh) {\n",
       "      \n",
       "    },\n",
       "    function(Bokeh) {\n",
       "      console.log(\"Bokeh: injecting CSS: https://cdn.pydata.org/bokeh/release/bokeh-1.0.4.min.css\");\n",
       "      Bokeh.embed.inject_css(\"https://cdn.pydata.org/bokeh/release/bokeh-1.0.4.min.css\");\n",
       "      console.log(\"Bokeh: injecting CSS: https://cdn.pydata.org/bokeh/release/bokeh-widgets-1.0.4.min.css\");\n",
       "      Bokeh.embed.inject_css(\"https://cdn.pydata.org/bokeh/release/bokeh-widgets-1.0.4.min.css\");\n",
       "      console.log(\"Bokeh: injecting CSS: https://cdn.pydata.org/bokeh/release/bokeh-tables-1.0.4.min.css\");\n",
       "      Bokeh.embed.inject_css(\"https://cdn.pydata.org/bokeh/release/bokeh-tables-1.0.4.min.css\");\n",
       "    }\n",
       "  ];\n",
       "\n",
       "  function run_inline_js() {\n",
       "    \n",
       "    if ((root.Bokeh !== undefined) || (force === true)) {\n",
       "      for (var i = 0; i < inline_js.length; i++) {\n",
       "        inline_js[i].call(root, root.Bokeh);\n",
       "      }if (force === true) {\n",
       "        display_loaded();\n",
       "      }} else if (Date.now() < root._bokeh_timeout) {\n",
       "      setTimeout(run_inline_js, 100);\n",
       "    } else if (!root._bokeh_failed_load) {\n",
       "      console.log(\"Bokeh: BokehJS failed to load within specified timeout.\");\n",
       "      root._bokeh_failed_load = true;\n",
       "    } else if (force !== true) {\n",
       "      var cell = $(document.getElementById(\"1297\")).parents('.cell').data().cell;\n",
       "      cell.output_area.append_execute_result(NB_LOAD_WARNING)\n",
       "    }\n",
       "\n",
       "  }\n",
       "\n",
       "  if (root._bokeh_is_loading === 0) {\n",
       "    console.log(\"Bokeh: BokehJS loaded, going straight to plotting\");\n",
       "    run_inline_js();\n",
       "  } else {\n",
       "    load_libs(js_urls, function() {\n",
       "      console.log(\"Bokeh: BokehJS plotting callback run at\", now());\n",
       "      run_inline_js();\n",
       "    });\n",
       "  }\n",
       "}(window));"
      ],
      "application/vnd.bokehjs_load.v0+json": "\n(function(root) {\n  function now() {\n    return new Date();\n  }\n\n  var force = true;\n\n  if (typeof (root._bokeh_onload_callbacks) === \"undefined\" || force === true) {\n    root._bokeh_onload_callbacks = [];\n    root._bokeh_is_loading = undefined;\n  }\n\n  \n\n  \n  if (typeof (root._bokeh_timeout) === \"undefined\" || force === true) {\n    root._bokeh_timeout = Date.now() + 5000;\n    root._bokeh_failed_load = false;\n  }\n\n  var NB_LOAD_WARNING = {'data': {'text/html':\n     \"<div style='background-color: #fdd'>\\n\"+\n     \"<p>\\n\"+\n     \"BokehJS does not appear to have successfully loaded. If loading BokehJS from CDN, this \\n\"+\n     \"may be due to a slow or bad network connection. Possible fixes:\\n\"+\n     \"</p>\\n\"+\n     \"<ul>\\n\"+\n     \"<li>re-rerun `output_notebook()` to attempt to load from CDN again, or</li>\\n\"+\n     \"<li>use INLINE resources instead, as so:</li>\\n\"+\n     \"</ul>\\n\"+\n     \"<code>\\n\"+\n     \"from bokeh.resources import INLINE\\n\"+\n     \"output_notebook(resources=INLINE)\\n\"+\n     \"</code>\\n\"+\n     \"</div>\"}};\n\n  function display_loaded() {\n    var el = document.getElementById(\"1297\");\n    if (el != null) {\n      el.textContent = \"BokehJS is loading...\";\n    }\n    if (root.Bokeh !== undefined) {\n      if (el != null) {\n        el.textContent = \"BokehJS \" + root.Bokeh.version + \" successfully loaded.\";\n      }\n    } else if (Date.now() < root._bokeh_timeout) {\n      setTimeout(display_loaded, 100)\n    }\n  }\n\n\n  function run_callbacks() {\n    try {\n      root._bokeh_onload_callbacks.forEach(function(callback) { callback() });\n    }\n    finally {\n      delete root._bokeh_onload_callbacks\n    }\n    console.info(\"Bokeh: all callbacks have finished\");\n  }\n\n  function load_libs(js_urls, callback) {\n    root._bokeh_onload_callbacks.push(callback);\n    if (root._bokeh_is_loading > 0) {\n      console.log(\"Bokeh: BokehJS is being loaded, scheduling callback at\", now());\n      return null;\n    }\n    if (js_urls == null || js_urls.length === 0) {\n      run_callbacks();\n      return null;\n    }\n    console.log(\"Bokeh: BokehJS not loaded, scheduling load and callback at\", now());\n    root._bokeh_is_loading = js_urls.length;\n    for (var i = 0; i < js_urls.length; i++) {\n      var url = js_urls[i];\n      var s = document.createElement('script');\n      s.src = url;\n      s.async = false;\n      s.onreadystatechange = s.onload = function() {\n        root._bokeh_is_loading--;\n        if (root._bokeh_is_loading === 0) {\n          console.log(\"Bokeh: all BokehJS libraries loaded\");\n          run_callbacks()\n        }\n      };\n      s.onerror = function() {\n        console.warn(\"failed to load library \" + url);\n      };\n      console.log(\"Bokeh: injecting script tag for BokehJS library: \", url);\n      document.getElementsByTagName(\"head\")[0].appendChild(s);\n    }\n  };var element = document.getElementById(\"1297\");\n  if (element == null) {\n    console.log(\"Bokeh: ERROR: autoload.js configured with elementid '1297' but no matching script tag was found. \")\n    return false;\n  }\n\n  var js_urls = [\"https://cdn.pydata.org/bokeh/release/bokeh-1.0.4.min.js\", \"https://cdn.pydata.org/bokeh/release/bokeh-widgets-1.0.4.min.js\", \"https://cdn.pydata.org/bokeh/release/bokeh-tables-1.0.4.min.js\", \"https://cdn.pydata.org/bokeh/release/bokeh-gl-1.0.4.min.js\"];\n\n  var inline_js = [\n    function(Bokeh) {\n      Bokeh.set_log_level(\"info\");\n    },\n    \n    function(Bokeh) {\n      \n    },\n    function(Bokeh) {\n      console.log(\"Bokeh: injecting CSS: https://cdn.pydata.org/bokeh/release/bokeh-1.0.4.min.css\");\n      Bokeh.embed.inject_css(\"https://cdn.pydata.org/bokeh/release/bokeh-1.0.4.min.css\");\n      console.log(\"Bokeh: injecting CSS: https://cdn.pydata.org/bokeh/release/bokeh-widgets-1.0.4.min.css\");\n      Bokeh.embed.inject_css(\"https://cdn.pydata.org/bokeh/release/bokeh-widgets-1.0.4.min.css\");\n      console.log(\"Bokeh: injecting CSS: https://cdn.pydata.org/bokeh/release/bokeh-tables-1.0.4.min.css\");\n      Bokeh.embed.inject_css(\"https://cdn.pydata.org/bokeh/release/bokeh-tables-1.0.4.min.css\");\n    }\n  ];\n\n  function run_inline_js() {\n    \n    if ((root.Bokeh !== undefined) || (force === true)) {\n      for (var i = 0; i < inline_js.length; i++) {\n        inline_js[i].call(root, root.Bokeh);\n      }if (force === true) {\n        display_loaded();\n      }} else if (Date.now() < root._bokeh_timeout) {\n      setTimeout(run_inline_js, 100);\n    } else if (!root._bokeh_failed_load) {\n      console.log(\"Bokeh: BokehJS failed to load within specified timeout.\");\n      root._bokeh_failed_load = true;\n    } else if (force !== true) {\n      var cell = $(document.getElementById(\"1297\")).parents('.cell').data().cell;\n      cell.output_area.append_execute_result(NB_LOAD_WARNING)\n    }\n\n  }\n\n  if (root._bokeh_is_loading === 0) {\n    console.log(\"Bokeh: BokehJS loaded, going straight to plotting\");\n    run_inline_js();\n  } else {\n    load_libs(js_urls, function() {\n      console.log(\"Bokeh: BokehJS plotting callback run at\", now());\n      run_inline_js();\n    });\n  }\n}(window));"
     },
     "metadata": {},
     "output_type": "display_data"
    },
    {
     "data": {
      "text/html": [
       "\n",
       "\n",
       "\n",
       "\n",
       "\n",
       "\n",
       "  <div class=\"bk-root\" id=\"336e985d-1e73-4305-8775-ecc3fc9793d3\" data-root-id=\"1219\"></div>\n"
      ]
     },
     "metadata": {},
     "output_type": "display_data"
    },
    {
     "data": {
      "application/javascript": [
       "(function(root) {\n",
       "  function embed_document(root) {\n",
       "    \n",
       "  var docs_json = {\"6d38afa9-f29f-4fde-9571-b0e75f2e59b7\":{\"roots\":{\"references\":[{\"attributes\":{\"below\":[{\"id\":\"1228\",\"type\":\"LinearAxis\"}],\"left\":[{\"id\":\"1233\",\"type\":\"CategoricalAxis\"}],\"output_backend\":\"svg\",\"plot_height\":200,\"plot_width\":800,\"renderers\":[{\"id\":\"1228\",\"type\":\"LinearAxis\"},{\"id\":\"1232\",\"type\":\"Grid\"},{\"id\":\"1233\",\"type\":\"CategoricalAxis\"},{\"id\":\"1236\",\"type\":\"Grid\"},{\"id\":\"1245\",\"type\":\"BoxAnnotation\"},{\"id\":\"1255\",\"type\":\"GlyphRenderer\"}],\"title\":{\"id\":\"1317\",\"type\":\"Title\"},\"toolbar\":{\"id\":\"1242\",\"type\":\"Toolbar\"},\"x_range\":{\"id\":\"1220\",\"type\":\"DataRange1d\"},\"x_scale\":{\"id\":\"1224\",\"type\":\"LinearScale\"},\"y_range\":{\"id\":\"1222\",\"type\":\"FactorRange\"},\"y_scale\":{\"id\":\"1226\",\"type\":\"CategoricalScale\"}},\"id\":\"1219\",\"subtype\":\"Figure\",\"type\":\"Plot\"},{\"attributes\":{},\"id\":\"1240\",\"type\":\"PanTool\"},{\"attributes\":{\"bottom_units\":\"screen\",\"fill_alpha\":{\"value\":0.5},\"fill_color\":{\"value\":\"lightgrey\"},\"left_units\":\"screen\",\"level\":\"overlay\",\"line_alpha\":{\"value\":1.0},\"line_color\":{\"value\":\"black\"},\"line_dash\":[4,4],\"line_width\":{\"value\":2},\"plot\":null,\"render_mode\":\"css\",\"right_units\":\"screen\",\"top_units\":\"screen\"},\"id\":\"1245\",\"type\":\"BoxAnnotation\"},{\"attributes\":{},\"id\":\"1241\",\"type\":\"SaveTool\"},{\"attributes\":{\"active_drag\":\"auto\",\"active_inspect\":\"auto\",\"active_multi\":null,\"active_scroll\":\"auto\",\"active_tap\":\"auto\",\"tools\":[{\"id\":\"1218\",\"type\":\"HoverTool\"},{\"id\":\"1237\",\"type\":\"ResetTool\"},{\"id\":\"1238\",\"type\":\"WheelZoomTool\"},{\"id\":\"1239\",\"type\":\"BoxZoomTool\"},{\"id\":\"1240\",\"type\":\"PanTool\"},{\"id\":\"1241\",\"type\":\"SaveTool\"}]},\"id\":\"1242\",\"type\":\"Toolbar\"},{\"attributes\":{\"fill_alpha\":{\"value\":0.1},\"fill_color\":{\"value\":\"#1f77b4\"},\"height\":{\"units\":\"data\",\"value\":0.9},\"line_alpha\":{\"value\":0.1},\"line_color\":{\"value\":\"#1f77b4\"},\"line_width\":{\"value\":0},\"width\":{\"field\":\"duration\",\"units\":\"data\"},\"x\":{\"field\":\"time_shift\"},\"y\":{\"field\":\"node\"}},\"id\":\"1253\",\"type\":\"Rect\"},{\"attributes\":{\"data_source\":{\"id\":\"1217\",\"type\":\"ColumnDataSource\"},\"glyph\":{\"id\":\"1252\",\"type\":\"Rect\"},\"hover_glyph\":{\"id\":\"1254\",\"type\":\"Rect\"},\"muted_glyph\":null,\"nonselection_glyph\":{\"id\":\"1253\",\"type\":\"Rect\"},\"selection_glyph\":null,\"view\":{\"id\":\"1256\",\"type\":\"CDSView\"}},\"id\":\"1255\",\"type\":\"GlyphRenderer\"},{\"attributes\":{\"source\":{\"id\":\"1217\",\"type\":\"ColumnDataSource\"}},\"id\":\"1256\",\"type\":\"CDSView\"},{\"attributes\":{\"formatter\":{\"id\":\"1318\",\"type\":\"BasicTickFormatter\"},\"plot\":{\"id\":\"1219\",\"subtype\":\"Figure\",\"type\":\"Plot\"},\"ticker\":{\"id\":\"1229\",\"type\":\"BasicTicker\"}},\"id\":\"1228\",\"type\":\"LinearAxis\"},{\"attributes\":{},\"id\":\"1229\",\"type\":\"BasicTicker\"},{\"attributes\":{},\"id\":\"1320\",\"type\":\"CategoricalTickFormatter\"},{\"attributes\":{\"callback\":null,\"data\":{\"color\":[\"gainsboro\",\"gainsboro\",\"gainsboro\",\"gainsboro\",\"gainsboro\",\"gainsboro\",\"gainsboro\",\"gainsboro\"],\"com\":[\"no\",\"no\",\"no\",\"no\",\"no\",\"no\",\"no\",\"no\"],\"duration\":[1,1,1,1,1,2,2,1],\"duration_display\":[1,1,1,1,1,2,2,1],\"index\":[\"1|a\",\"2|a\",\"2|b\",\"2|c\",\"2|d\",\"3|b\",\"3|d\",\"5|d\"],\"node\":[\"a\",\"a\",\"b\",\"c\",\"d\",\"b\",\"d\",\"d\"],\"time\":[1,2,2,2,2,3,3,5],\"time_shift\":[1.5,2.5,2.5,2.5,2.5,4.0,4.0,5.5]},\"selected\":{\"id\":\"1324\",\"type\":\"Selection\"},\"selection_policy\":{\"id\":\"1323\",\"type\":\"UnionRenderers\"}},\"id\":\"1217\",\"type\":\"ColumnDataSource\"},{\"attributes\":{\"callback\":null,\"factors\":[\"a\",\"b\",\"c\",\"d\"]},\"id\":\"1222\",\"type\":\"FactorRange\"},{\"attributes\":{\"overlay\":{\"id\":\"1245\",\"type\":\"BoxAnnotation\"}},\"id\":\"1239\",\"type\":\"BoxZoomTool\"},{\"attributes\":{},\"id\":\"1323\",\"type\":\"UnionRenderers\"},{\"attributes\":{},\"id\":\"1224\",\"type\":\"LinearScale\"},{\"attributes\":{\"fill_color\":{\"value\":\"grey\"},\"height\":{\"units\":\"data\",\"value\":0.9},\"line_color\":{\"value\":\"grey\"},\"line_width\":{\"value\":0},\"width\":{\"field\":\"duration\",\"units\":\"data\"},\"x\":{\"field\":\"time_shift\"},\"y\":{\"field\":\"node\"}},\"id\":\"1254\",\"type\":\"Rect\"},{\"attributes\":{\"grid_line_color\":{\"value\":null},\"plot\":{\"id\":\"1219\",\"subtype\":\"Figure\",\"type\":\"Plot\"},\"ticker\":{\"id\":\"1229\",\"type\":\"BasicTicker\"}},\"id\":\"1232\",\"type\":\"Grid\"},{\"attributes\":{\"fill_color\":{\"field\":\"color\"},\"height\":{\"units\":\"data\",\"value\":0.9},\"line_color\":{\"value\":null},\"line_width\":{\"value\":0},\"width\":{\"field\":\"duration\",\"units\":\"data\"},\"x\":{\"field\":\"time_shift\"},\"y\":{\"field\":\"node\"}},\"id\":\"1252\",\"type\":\"Rect\"},{\"attributes\":{},\"id\":\"1234\",\"type\":\"CategoricalTicker\"},{\"attributes\":{\"callback\":null},\"id\":\"1220\",\"type\":\"DataRange1d\"},{\"attributes\":{},\"id\":\"1238\",\"type\":\"WheelZoomTool\"},{\"attributes\":{\"formatter\":{\"id\":\"1320\",\"type\":\"CategoricalTickFormatter\"},\"plot\":{\"id\":\"1219\",\"subtype\":\"Figure\",\"type\":\"Plot\"},\"ticker\":{\"id\":\"1234\",\"type\":\"CategoricalTicker\"}},\"id\":\"1233\",\"type\":\"CategoricalAxis\"},{\"attributes\":{\"plot\":null,\"text\":\"\"},\"id\":\"1317\",\"type\":\"Title\"},{\"attributes\":{},\"id\":\"1226\",\"type\":\"CategoricalScale\"},{\"attributes\":{\"dimension\":1,\"grid_line_color\":{\"value\":null},\"plot\":{\"id\":\"1219\",\"subtype\":\"Figure\",\"type\":\"Plot\"},\"ticker\":{\"id\":\"1234\",\"type\":\"CategoricalTicker\"}},\"id\":\"1236\",\"type\":\"Grid\"},{\"attributes\":{},\"id\":\"1324\",\"type\":\"Selection\"},{\"attributes\":{\"callback\":null,\"point_policy\":\"follow_mouse\",\"tooltips\":[[\"name\",\"@node\"],[\"community\",\"@com\"],[\"start\",\"@time\"],[\"duration\",\"@{duration_display}\"]]},\"id\":\"1218\",\"type\":\"HoverTool\"},{\"attributes\":{},\"id\":\"1237\",\"type\":\"ResetTool\"},{\"attributes\":{},\"id\":\"1318\",\"type\":\"BasicTickFormatter\"}],\"root_ids\":[\"1219\"]},\"title\":\"Bokeh Application\",\"version\":\"1.0.4\"}};\n",
       "  var render_items = [{\"docid\":\"6d38afa9-f29f-4fde-9571-b0e75f2e59b7\",\"roots\":{\"1219\":\"336e985d-1e73-4305-8775-ecc3fc9793d3\"}}];\n",
       "  root.Bokeh.embed.embed_items_notebook(docs_json, render_items);\n",
       "\n",
       "  }\n",
       "  if (root.Bokeh !== undefined) {\n",
       "    embed_document(root);\n",
       "  } else {\n",
       "    var attempts = 0;\n",
       "    var timer = setInterval(function(root) {\n",
       "      if (root.Bokeh !== undefined) {\n",
       "        embed_document(root);\n",
       "        clearInterval(timer);\n",
       "      }\n",
       "      attempts++;\n",
       "      if (attempts > 100) {\n",
       "        console.log(\"Bokeh: ERROR: Unable to run BokehJS code because BokehJS library is missing\");\n",
       "        clearInterval(timer);\n",
       "      }\n",
       "    }, 10, root)\n",
       "  }\n",
       "})(window);"
      ],
      "application/vnd.bokehjs_exec.v0+json": ""
     },
     "metadata": {
      "application/vnd.bokehjs_exec.v0+json": {
       "id": "1219"
      }
     },
     "output_type": "display_data"
    },
    {
     "data": {
      "text/html": [
       "\n",
       "\n",
       "\n",
       "\n",
       "\n",
       "\n",
       "  <div class=\"bk-root\" id=\"14068dc4-2117-4a81-9446-4d9d1cd670e3\" data-root-id=\"1259\"></div>\n"
      ]
     },
     "metadata": {},
     "output_type": "display_data"
    },
    {
     "data": {
      "application/javascript": [
       "(function(root) {\n",
       "  function embed_document(root) {\n",
       "    \n",
       "  var docs_json = {\"eda83cfd-3c4d-4bdd-9015-108c51c0b441\":{\"roots\":{\"references\":[{\"attributes\":{\"below\":[{\"id\":\"1268\",\"type\":\"LinearAxis\"}],\"left\":[{\"id\":\"1273\",\"type\":\"CategoricalAxis\"}],\"output_backend\":\"svg\",\"plot_height\":200,\"plot_width\":800,\"renderers\":[{\"id\":\"1268\",\"type\":\"LinearAxis\"},{\"id\":\"1272\",\"type\":\"Grid\"},{\"id\":\"1273\",\"type\":\"CategoricalAxis\"},{\"id\":\"1276\",\"type\":\"Grid\"},{\"id\":\"1285\",\"type\":\"BoxAnnotation\"},{\"id\":\"1295\",\"type\":\"GlyphRenderer\"}],\"title\":{\"id\":\"1407\",\"type\":\"Title\"},\"toolbar\":{\"id\":\"1282\",\"type\":\"Toolbar\"},\"x_range\":{\"id\":\"1260\",\"type\":\"DataRange1d\"},\"x_scale\":{\"id\":\"1264\",\"type\":\"LinearScale\"},\"y_range\":{\"id\":\"1262\",\"type\":\"FactorRange\"},\"y_scale\":{\"id\":\"1266\",\"type\":\"CategoricalScale\"}},\"id\":\"1259\",\"subtype\":\"Figure\",\"type\":\"Plot\"},{\"attributes\":{\"bottom_units\":\"screen\",\"fill_alpha\":{\"value\":0.5},\"fill_color\":{\"value\":\"lightgrey\"},\"left_units\":\"screen\",\"level\":\"overlay\",\"line_alpha\":{\"value\":1.0},\"line_color\":{\"value\":\"black\"},\"line_dash\":[4,4],\"line_width\":{\"value\":2},\"plot\":null,\"render_mode\":\"css\",\"right_units\":\"screen\",\"top_units\":\"screen\"},\"id\":\"1285\",\"type\":\"BoxAnnotation\"},{\"attributes\":{\"data_source\":{\"id\":\"1257\",\"type\":\"ColumnDataSource\"},\"glyph\":{\"id\":\"1292\",\"type\":\"Rect\"},\"hover_glyph\":{\"id\":\"1294\",\"type\":\"Rect\"},\"muted_glyph\":null,\"nonselection_glyph\":{\"id\":\"1293\",\"type\":\"Rect\"},\"selection_glyph\":null,\"view\":{\"id\":\"1296\",\"type\":\"CDSView\"}},\"id\":\"1295\",\"type\":\"GlyphRenderer\"},{\"attributes\":{\"callback\":null},\"id\":\"1260\",\"type\":\"DataRange1d\"},{\"attributes\":{\"active_drag\":\"auto\",\"active_inspect\":\"auto\",\"active_multi\":null,\"active_scroll\":\"auto\",\"active_tap\":\"auto\",\"tools\":[{\"id\":\"1258\",\"type\":\"HoverTool\"},{\"id\":\"1277\",\"type\":\"ResetTool\"},{\"id\":\"1278\",\"type\":\"WheelZoomTool\"},{\"id\":\"1279\",\"type\":\"BoxZoomTool\"},{\"id\":\"1280\",\"type\":\"PanTool\"},{\"id\":\"1281\",\"type\":\"SaveTool\"}]},\"id\":\"1282\",\"type\":\"Toolbar\"},{\"attributes\":{\"formatter\":{\"id\":\"1410\",\"type\":\"CategoricalTickFormatter\"},\"plot\":{\"id\":\"1259\",\"subtype\":\"Figure\",\"type\":\"Plot\"},\"ticker\":{\"id\":\"1274\",\"type\":\"CategoricalTicker\"}},\"id\":\"1273\",\"type\":\"CategoricalAxis\"},{\"attributes\":{\"fill_color\":{\"field\":\"color\"},\"height\":{\"units\":\"data\",\"value\":0.9},\"line_color\":{\"value\":null},\"line_width\":{\"value\":0},\"width\":{\"field\":\"duration\",\"units\":\"data\"},\"x\":{\"field\":\"time_shift\"},\"y\":{\"field\":\"node\"}},\"id\":\"1292\",\"type\":\"Rect\"},{\"attributes\":{\"overlay\":{\"id\":\"1285\",\"type\":\"BoxAnnotation\"}},\"id\":\"1279\",\"type\":\"BoxZoomTool\"},{\"attributes\":{\"callback\":null,\"data\":{\"color\":[\"gainsboro\",\"gainsboro\",\"gainsboro\",\"gainsboro\"],\"com\":[\"no\",\"no\",\"no\",\"no\"],\"duration\":[2,2,1,4],\"duration_display\":[2,2,1,4],\"index\":[\"1|a\",\"2|b\",\"2|c\",\"2|d\"],\"node\":[\"a\",\"b\",\"c\",\"d\"],\"time\":[1,2,2,2],\"time_shift\":[2.0,3.0,2.5,4.0]},\"selected\":{\"id\":\"1414\",\"type\":\"Selection\"},\"selection_policy\":{\"id\":\"1413\",\"type\":\"UnionRenderers\"}},\"id\":\"1257\",\"type\":\"ColumnDataSource\"},{\"attributes\":{},\"id\":\"1410\",\"type\":\"CategoricalTickFormatter\"},{\"attributes\":{\"formatter\":{\"id\":\"1408\",\"type\":\"BasicTickFormatter\"},\"plot\":{\"id\":\"1259\",\"subtype\":\"Figure\",\"type\":\"Plot\"},\"ticker\":{\"id\":\"1269\",\"type\":\"BasicTicker\"}},\"id\":\"1268\",\"type\":\"LinearAxis\"},{\"attributes\":{\"source\":{\"id\":\"1257\",\"type\":\"ColumnDataSource\"}},\"id\":\"1296\",\"type\":\"CDSView\"},{\"attributes\":{\"grid_line_color\":{\"value\":null},\"plot\":{\"id\":\"1259\",\"subtype\":\"Figure\",\"type\":\"Plot\"},\"ticker\":{\"id\":\"1269\",\"type\":\"BasicTicker\"}},\"id\":\"1272\",\"type\":\"Grid\"},{\"attributes\":{},\"id\":\"1413\",\"type\":\"UnionRenderers\"},{\"attributes\":{},\"id\":\"1281\",\"type\":\"SaveTool\"},{\"attributes\":{},\"id\":\"1278\",\"type\":\"WheelZoomTool\"},{\"attributes\":{},\"id\":\"1414\",\"type\":\"Selection\"},{\"attributes\":{\"callback\":null,\"point_policy\":\"follow_mouse\",\"tooltips\":[[\"name\",\"@node\"],[\"community\",\"@com\"],[\"start\",\"@time\"],[\"duration\",\"@{duration_display}\"]]},\"id\":\"1258\",\"type\":\"HoverTool\"},{\"attributes\":{},\"id\":\"1280\",\"type\":\"PanTool\"},{\"attributes\":{\"plot\":null,\"text\":\"\"},\"id\":\"1407\",\"type\":\"Title\"},{\"attributes\":{\"dimension\":1,\"grid_line_color\":{\"value\":null},\"plot\":{\"id\":\"1259\",\"subtype\":\"Figure\",\"type\":\"Plot\"},\"ticker\":{\"id\":\"1274\",\"type\":\"CategoricalTicker\"}},\"id\":\"1276\",\"type\":\"Grid\"},{\"attributes\":{\"fill_alpha\":{\"value\":0.1},\"fill_color\":{\"value\":\"#1f77b4\"},\"height\":{\"units\":\"data\",\"value\":0.9},\"line_alpha\":{\"value\":0.1},\"line_color\":{\"value\":\"#1f77b4\"},\"line_width\":{\"value\":0},\"width\":{\"field\":\"duration\",\"units\":\"data\"},\"x\":{\"field\":\"time_shift\"},\"y\":{\"field\":\"node\"}},\"id\":\"1293\",\"type\":\"Rect\"},{\"attributes\":{},\"id\":\"1277\",\"type\":\"ResetTool\"},{\"attributes\":{\"callback\":null,\"factors\":[\"a\",\"b\",\"c\",\"d\"]},\"id\":\"1262\",\"type\":\"FactorRange\"},{\"attributes\":{\"fill_color\":{\"value\":\"grey\"},\"height\":{\"units\":\"data\",\"value\":0.9},\"line_color\":{\"value\":\"grey\"},\"line_width\":{\"value\":0},\"width\":{\"field\":\"duration\",\"units\":\"data\"},\"x\":{\"field\":\"time_shift\"},\"y\":{\"field\":\"node\"}},\"id\":\"1294\",\"type\":\"Rect\"},{\"attributes\":{},\"id\":\"1408\",\"type\":\"BasicTickFormatter\"},{\"attributes\":{},\"id\":\"1266\",\"type\":\"CategoricalScale\"},{\"attributes\":{},\"id\":\"1264\",\"type\":\"LinearScale\"},{\"attributes\":{},\"id\":\"1269\",\"type\":\"BasicTicker\"},{\"attributes\":{},\"id\":\"1274\",\"type\":\"CategoricalTicker\"}],\"root_ids\":[\"1259\"]},\"title\":\"Bokeh Application\",\"version\":\"1.0.4\"}};\n",
       "  var render_items = [{\"docid\":\"eda83cfd-3c4d-4bdd-9015-108c51c0b441\",\"roots\":{\"1259\":\"14068dc4-2117-4a81-9446-4d9d1cd670e3\"}}];\n",
       "  root.Bokeh.embed.embed_items_notebook(docs_json, render_items);\n",
       "\n",
       "  }\n",
       "  if (root.Bokeh !== undefined) {\n",
       "    embed_document(root);\n",
       "  } else {\n",
       "    var attempts = 0;\n",
       "    var timer = setInterval(function(root) {\n",
       "      if (root.Bokeh !== undefined) {\n",
       "        embed_document(root);\n",
       "        clearInterval(timer);\n",
       "      }\n",
       "      attempts++;\n",
       "      if (attempts > 100) {\n",
       "        console.log(\"Bokeh: ERROR: Unable to run BokehJS code because BokehJS library is missing\");\n",
       "        clearInterval(timer);\n",
       "      }\n",
       "    }, 10, root)\n",
       "  }\n",
       "})(window);"
      ],
      "application/vnd.bokehjs_exec.v0+json": ""
     },
     "metadata": {
      "application/vnd.bokehjs_exec.v0+json": {
       "id": "1259"
      }
     },
     "output_type": "display_data"
    }
   ],
   "source": [
    "from bokeh.io import show, output_notebook\n",
    "\n",
    "to_plot_SN = tn.plot_longitudinal(dg_sn,height=200)\n",
    "to_plot_IG = tn.plot_longitudinal(dg_ig,height=200)\n",
    "\n",
    "\n",
    "output_notebook()\n",
    "show(to_plot_SN)\n",
    "show(to_plot_IG)"
   ]
  },
  {
   "cell_type": "markdown",
   "metadata": {
    "colab_type": "text",
    "id": "mri1TMSp6Cuf"
   },
   "source": [
    "<a id='conversion'></a>\n",
    "\n",
    "# Conversion between snapshots and interval graphs\n",
    "We convert the snapshot representation into an interval graph representation, using a snapshot lenght of 1. \n",
    "\n",
    "We check that both graphs are now similar"
   ]
  },
  {
   "cell_type": "code",
   "execution_count": 44,
   "metadata": {
    "colab": {
     "base_uri": "https://localhost:8080/",
     "height": 51
    },
    "colab_type": "code",
    "id": "wGlIom-PhRZn",
    "outputId": "dd47a8d8-3641-4529-9ad0-9c8e7e9dc3fa"
   },
   "outputs": [
    {
     "name": "stdout",
     "output_type": "stream",
     "text": [
      "{'a': [1,3[ , 'b': [2,4[ , 'c': [2,3[ , 'd': [2,4[ [5,6[ }\n",
      "{'a': [1,3[ , 'b': [2,4[ , 'c': [2,3[ , 'd': [2,6[ }\n"
     ]
    }
   ],
   "source": [
    "converted_to_IG = dg_sn.to_DynGraphSG(sn_duration=1)\n",
    "print(converted_to_IG.node_presence())\n",
    "print(dg_ig.node_presence())"
   ]
  },
  {
   "cell_type": "markdown",
   "metadata": {
    "colab_type": "text",
    "id": "TxL5hGKX67-L"
   },
   "source": [
    "Reciprocally, we transform the interval graph into a snapshot representation and check the similarity"
   ]
  },
  {
   "cell_type": "code",
   "execution_count": 45,
   "metadata": {
    "colab": {
     "base_uri": "https://localhost:8080/",
     "height": 51
    },
    "colab_type": "code",
    "id": "hyj4TUdbyjGx",
    "outputId": "72819307-2ec4-4c36-c34a-b3132f234dd8"
   },
   "outputs": [
    {
     "name": "stdout",
     "output_type": "stream",
     "text": [
      "{'a': [1, 2], 'b': [2, 3], 'c': [2], 'd': [2, 3, 4, 5]}\n",
      "{'a': [1, 2], 'b': [2, 3], 'c': [2], 'd': [2, 3, 5]}\n"
     ]
    }
   ],
   "source": [
    "converted_to_SN = dg_ig.to_DynGraphSN(slices=1)\n",
    "print(converted_to_SN.node_presence())\n",
    "print(dg_sn.node_presence())"
   ]
  },
  {
   "cell_type": "markdown",
   "metadata": {
    "colab_type": "text",
    "id": "l6geADSO7LDb"
   },
   "source": [
    "<a id='aggregation'></a>\n",
    "\n",
    "# Aggregation\n"
   ]
  },
  {
   "cell_type": "markdown",
   "metadata": {},
   "source": [
    "## Creating cumulated graphs\n",
    "It can be useful to create cumulated weighted graphs to summarize the presence of nodes and edges over a period"
   ]
  },
  {
   "cell_type": "code",
   "execution_count": 46,
   "metadata": {},
   "outputs": [
    {
     "name": "stderr",
     "output_type": "stream",
     "text": [
      "/Users/cazabetremy/anaconda3/lib/python3.6/site-packages/networkx/drawing/nx_pylab.py:611: MatplotlibDeprecationWarning: isinstance(..., numbers.Number)\n",
      "  if cb.is_numlike(alpha):\n"
     ]
    },
    {
     "data": {
      "image/png": "[encoded data removed]",
      "text/plain": [
       "<Figure size 432x288 with 1 Axes>"
      ]
     },
     "metadata": {},
     "output_type": "display_data"
    }
   ],
   "source": [
    "import networkx as nx\n",
    "%matplotlib inline\n",
    "g_from_sn = dg_sn.cumulated_graph()\n",
    "g_from_ig = dg_ig.cumulated_graph()\n",
    "nx.draw_networkx(g_from_sn,node_size=[g_from_sn.nodes[n]['weight']*100 for n in g_from_sn.nodes], width = [g_from_sn[u][v]['weight'] for u,v in g_from_sn.edges])"
   ]
  },
  {
   "cell_type": "markdown",
   "metadata": {},
   "source": [
    "Graphs can also be cumulated only over a specific period"
   ]
  },
  {
   "cell_type": "code",
   "execution_count": 47,
   "metadata": {},
   "outputs": [],
   "source": [
    "g_from_sn = dg_sn.cumulated_graph([1,2]) # create a static graph cumulating snapshots \n",
    "g_from_ig = dg_ig.cumulated_graph(tn.Intervals([(1,3)]))"
   ]
  },
  {
   "cell_type": "markdown",
   "metadata": {},
   "source": [
    "## Resampling\n",
    "Sometimes, it is useful to study dynamic network with a lesser temporal granularity than the original data.\n",
    "\n",
    "Several functions can be used to aggregate dynamic graphs, thus yielding snapshots covering larger periods.\n",
    "\n",
    "Do exemplify this usage, we use a dataset from the sociopatterns project (http://www.sociopatterns.org) that can be loaded in a single command"
   ]
  },
  {
   "cell_type": "code",
   "execution_count": 15,
   "metadata": {
    "colab": {},
    "colab_type": "code",
    "id": "BE7L9tBA1FNH"
   },
   "outputs": [],
   "source": [
    "sociopatterns = tn.DynGraphSN.graph_socioPatterns2012()"
   ]
  },
  {
   "cell_type": "markdown",
   "metadata": {
    "colab_type": "text",
    "id": "dKO13kfV8YO7"
   },
   "source": [
    "For this original network loaded as a snapshot representation, we print the number of snapshots and the first and last dates (the dataset covers 9 days, including a week-end with no activity)"
   ]
  },
  {
   "cell_type": "code",
   "execution_count": 16,
   "metadata": {
    "colab": {
     "base_uri": "https://localhost:8080/",
     "height": 51
    },
    "colab_type": "code",
    "id": "zlzT1S2c2zKb",
    "outputId": "05cf3f25-7c4a-40bc-cb56-fc083548eefa"
   },
   "outputs": [
    {
     "name": "stdout",
     "output_type": "stream",
     "text": [
      "# snapshots: 11273\n",
      "first date: 2012-11-19 05:36:20  laste date: 2012-11-27 16:14:40\n"
     ]
    }
   ],
   "source": [
    "from datetime import datetime\n",
    "all_times = sociopatterns.snapshots_timesteps()\n",
    "print(\"# snapshots:\",len(all_times))\n",
    "print(\"first date:\",datetime.utcfromtimestamp(all_times[0]),\" laste date:\",datetime.utcfromtimestamp(all_times[-1]))"
   ]
  },
  {
   "cell_type": "markdown",
   "metadata": {
    "colab_type": "text",
    "id": "-tiybse78sQk"
   },
   "source": [
    "We then aggregate on fixed time periods using the `aggregate_time_period` function. Although there are several ways to call this function, the simplest one is using a string such as \"day\", \"hour\", \"month\", etc.\n",
    "Note how the beginning of the first snapshot is now on midnight of the day on which the first observation was made"
   ]
  },
  {
   "cell_type": "code",
   "execution_count": 17,
   "metadata": {
    "colab": {},
    "colab_type": "code",
    "id": "ZGX7M3g_2u3w"
   },
   "outputs": [],
   "source": [
    "sociopatterns_Day = sociopatterns.aggregate_time_period(\"day\")"
   ]
  },
  {
   "cell_type": "code",
   "execution_count": 18,
   "metadata": {
    "colab": {
     "base_uri": "https://localhost:8080/",
     "height": 51
    },
    "colab_type": "code",
    "id": "jatmSRA71Vwe",
    "outputId": "7fe144a9-3d4e-4973-bea7-3ba16dd4678e"
   },
   "outputs": [
    {
     "name": "stdout",
     "output_type": "stream",
     "text": [
      "# snapshots: 7\n",
      "first date: 2012-11-19 00:00:00  laste date: 2012-11-27 00:00:00\n"
     ]
    }
   ],
   "source": [
    "all_times = sociopatterns_Day.snapshots_timesteps()\n",
    "print(\"# snapshots:\",len(all_times))\n",
    "print(\"first date:\",datetime.utcfromtimestamp(all_times[0]),\" laste date:\",datetime.utcfromtimestamp(all_times[-1]))"
   ]
  },
  {
   "cell_type": "markdown",
   "metadata": {
    "colab_type": "text",
    "id": "esS6ElU49Q1u"
   },
   "source": [
    "Another way to aggregate is to use sliding windows. In this example, we use non-overlapping windows of one hour, but is possible to have other parameters, such as overlapping windows.\n",
    "Note how, this time, the first snapshot starts exactly at the time of the first observation in the original data"
   ]
  },
  {
   "cell_type": "code",
   "execution_count": 19,
   "metadata": {
    "colab": {},
    "colab_type": "code",
    "id": "zUqkDgDr3DNO"
   },
   "outputs": [],
   "source": [
    "sociopatterns_hour_window = sociopatterns.aggregate_sliding_window(bin_size=60*60)"
   ]
  },
  {
   "cell_type": "code",
   "execution_count": 20,
   "metadata": {
    "colab": {
     "base_uri": "https://localhost:8080/",
     "height": 51
    },
    "colab_type": "code",
    "id": "MQzD1UkB3OMR",
    "outputId": "4ef6e456-33bf-4a00-fdc9-c8da2c96b704"
   },
   "outputs": [
    {
     "name": "stdout",
     "output_type": "stream",
     "text": [
      "# snapshots: 203\n",
      "first date: 2012-11-19 05:36:20  laste date: 2012-11-27 15:36:20\n"
     ]
    }
   ],
   "source": [
    "all_times = sociopatterns_hour_window.snapshots_timesteps()\n",
    "print(\"# snapshots:\",len(all_times))\n",
    "print(\"first date:\",datetime.utcfromtimestamp(all_times[0]),\" laste date:\",datetime.utcfromtimestamp(all_times[-1]))"
   ]
  }
 ],
 "metadata": {
  "colab": {
   "name": "Network - Graph classes.ipynb",
   "provenance": [],
   "version": "0.3.2"
  },
  "kernelspec": {
   "display_name": "Python 3",
   "language": "python",
   "name": "python3"
  },
  "language_info": {
   "codemirror_mode": {
    "name": "ipython",
    "version": 3
   },
   "file_extension": ".py",
   "mimetype": "text/x-python",
   "name": "python",
   "nbconvert_exporter": "python",
   "pygments_lexer": "ipython3",
   "version": "3.6.3"
  }
 },
 "nbformat": 4,
 "nbformat_minor": 2
}
