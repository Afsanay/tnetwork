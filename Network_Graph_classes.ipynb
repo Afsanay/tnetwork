{
  "nbformat": 4,
  "nbformat_minor": 0,
  "metadata": {
    "colab": {
      "name": "Network - Graph classes.ipynb",
      "version": "0.3.2",
      "provenance": []
    },
    "kernelspec": {
      "name": "python3",
      "display_name": "Python 3"
    }
  },
  "cells": [
    {
      "metadata": {
        "id": "NZ3NRaU2fpL6",
        "colab_type": "code",
        "colab": {}
      },
      "cell_type": "code",
      "source": [
        "import tnetwork as tn"
      ],
      "execution_count": 0,
      "outputs": []
    },
    {
      "metadata": {
        "id": "rXGlQyXR_Y_S",
        "colab_type": "text"
      },
      "cell_type": "markdown",
      "source": [
        "# Table of Contents\n",
        "\n",
        "1. [Creating a simple graph](#creating)\n",
        "  *   [Using a snapshot representation](#sn)\n",
        "  *  [Using an interval graph representation](#ig) \n",
        "2. [Visualization](#vizu)\n",
        "3. [Conversion between snapshots and interval graphs](#conversion)\n",
        "4. [Aggregation](#aggregation)"
      ]
    },
    {
      "metadata": {
        "id": "O56VJX-03n2K",
        "colab_type": "text"
      },
      "cell_type": "markdown",
      "source": [
        "<a id='creating'></a>\n",
        "# Creating simple dynamic graphs and accessing their properties\n",
        "We will represent a graph with similar properties using snapshots and interval graphs\n",
        "<a id='sn'></a>\n",
        "\n",
        "\n"
      ]
    },
    {
      "metadata": {
        "id": "dQ4WmmdmBZhz",
        "colab_type": "text"
      },
      "cell_type": "markdown",
      "source": [
        "##Using a snapshot representation\n",
        "\n"
      ]
    },
    {
      "metadata": {
        "id": "viLCeEeVgFga",
        "colab_type": "code",
        "colab": {}
      },
      "cell_type": "code",
      "source": [
        "dg_sn = tn.DynGraphSN()\n",
        "\n",
        "dg_sn.add_node_presence(\"a\",1) #add node a in snapshot 1\n",
        "dg_sn.add_nodes_presence_from([\"a\",\"b\",\"c\"],2) #add nodes a,b,c in snapshot 2\n",
        "dg_sn.add_nodes_presence_from(\"d\",[2,3]) #add node in snapshots 2 & 3\n",
        "\n",
        "dg_sn.add_interaction(\"a\",\"b\",2) #link a and b in snapshot 2\n",
        "dg_sn.add_interactions_from((\"b\",\"d\"),[2,3]) #link b and d in snapshots 2 and 3"
      ],
      "execution_count": 0,
      "outputs": []
    },
    {
      "metadata": {
        "id": "Em7-bNvL38pL",
        "colab_type": "text"
      },
      "cell_type": "markdown",
      "source": [
        "<a id='ig'></a>\n",
        "\n",
        "## Using an interval graph representation.\n",
        "Note the similarity between the functions used.\n",
        "\n",
        "Both graphs are very similar if we consider that the snapshots of `dg_sn` have a duration of 1."
      ]
    },
    {
      "metadata": {
        "id": "tONhImcRgrEk",
        "colab_type": "code",
        "colab": {}
      },
      "cell_type": "code",
      "source": [
        "dg_ig = tn.DynGraphIG()\n",
        "\n",
        "dg_ig.add_node_presence(\"a\",(1,2)) #add node a from time 1 to 2 (1,2)\n",
        "dg_ig.add_nodes_presence_from([\"a\",\"b\",\"c\"],(2,3)) # add ndoes a,b,c from 2 to 3\n",
        "dg_ig.add_nodes_presence_from(\"d\",(2,4)) #add node in snapshots 2 & 3\n",
        "\n",
        "dg_ig.add_interaction(\"a\",\"b\",(2,3)) # link nodes a and b from 2 to 3 \n",
        "dg_ig.add_interactions_from((\"b\",\"d\"),(2,4))"
      ],
      "execution_count": 0,
      "outputs": []
    },
    {
      "metadata": {
        "id": "cTPffJ614gr1",
        "colab_type": "text"
      },
      "cell_type": "markdown",
      "source": [
        "## Accessing functions\n",
        "Using accessing functions, we can check that both graphs are very similar"
      ]
    },
    {
      "metadata": {
        "id": "CVaBJQdaxTPI",
        "colab_type": "code",
        "colab": {
          "base_uri": "https://localhost:8080/",
          "height": 85
        },
        "outputId": "9bc7f7d7-debe-4ef1-cb3f-9a8e8848e973"
      },
      "cell_type": "code",
      "source": [
        "print(dg_sn.graph_at_time(2).edges)\n",
        "print(dg_ig.graph_at_time(2).edges)\n",
        "print(dg_sn.graph_at_time(3).edges)\n",
        "print(dg_ig.graph_at_time(3).edges)"
      ],
      "execution_count": 45,
      "outputs": [
        {
          "output_type": "stream",
          "text": [
            "[('a', 'b'), ('b', 'd')]\n",
            "[('a', 'b'), ('b', 'd')]\n",
            "[('d', 'b')]\n",
            "[('b', 'd')]\n"
          ],
          "name": "stdout"
        }
      ]
    },
    {
      "metadata": {
        "id": "KnreFdJailIu",
        "colab_type": "code",
        "outputId": "a2c84c94-42bb-4938-86b1-2646400b6690",
        "colab": {
          "base_uri": "https://localhost:8080/",
          "height": 51
        }
      },
      "cell_type": "code",
      "source": [
        "print(dg_sn.node_presence())\n",
        "print(dg_ig.node_presence())"
      ],
      "execution_count": 46,
      "outputs": [
        {
          "output_type": "stream",
          "text": [
            "{'a': [1, 2], 'b': [2, 3], 'c': [2], 'd': [2, 3]}\n",
            "{'a': [1,3[ , 'b': [2,4[ , 'c': [2,3[ , 'd': [2,4[ }\n"
          ],
          "name": "stdout"
        }
      ]
    },
    {
      "metadata": {
        "id": "diRsLh9n5cxs",
        "colab_type": "text"
      },
      "cell_type": "markdown",
      "source": [
        "<a id='vizu'></a>\n",
        "\n",
        "#Visualization\n",
        "We can use a basic visualization to compare nodes presence of both representation. \n",
        "\n",
        "See the notebook on visualization to see more on that."
      ]
    },
    {
      "metadata": {
        "id": "wBgAA-DshLGt",
        "colab_type": "code",
        "outputId": "68d3b911-17f5-4ac7-daf2-cdb995fd5791",
        "colab": {
          "base_uri": "https://localhost:8080/",
          "height": 1005
        }
      },
      "cell_type": "code",
      "source": [
        "from bokeh.io import show, output_notebook\n",
        "\n",
        "to_plot_SN = tn.plot_longitudinal(dg_sn,height=200)\n",
        "to_plot_IG = tn.plot_longitudinal(dg_ig,height=200)\n",
        "\n",
        "\n",
        "output_notebook()\n",
        "show(to_plot_SN)\n",
        "show(to_plot_IG)"
      ],
      "execution_count": 23,
      "outputs": [
        {
          "output_type": "stream",
          "text": [
            "/usr/local/lib/python3.6/dist-packages/numpy/core/numeric.py:2397: FutureWarning: elementwise comparison failed; returning scalar instead, but in the future will perform elementwise comparison\n",
            "  return bool(asarray(a1 == a2).all())\n"
          ],
          "name": "stderr"
        },
        {
          "output_type": "display_data",
          "data": {
            "text/html": [
              "\n",
              "    <div class=\"bk-root\">\n",
              "        <a href=\"https://bokeh.pydata.org\" target=\"_blank\" class=\"bk-logo bk-logo-small bk-logo-notebook\"></a>\n",
              "        <span id=\"1185\">Loading BokehJS ...</span>\n",
              "    </div>"
            ]
          },
          "metadata": {
            "tags": []
          }
        },
        {
          "output_type": "display_data",
          "data": {
            "application/javascript": [
              "\n",
              "(function(root) {\n",
              "  function now() {\n",
              "    return new Date();\n",
              "  }\n",
              "\n",
              "  var force = true;\n",
              "\n",
              "  if (typeof (root._bokeh_onload_callbacks) === \"undefined\" || force === true) {\n",
              "    root._bokeh_onload_callbacks = [];\n",
              "    root._bokeh_is_loading = undefined;\n",
              "  }\n",
              "\n",
              "  var JS_MIME_TYPE = 'application/javascript';\n",
              "  var HTML_MIME_TYPE = 'text/html';\n",
              "  var EXEC_MIME_TYPE = 'application/vnd.bokehjs_exec.v0+json';\n",
              "  var CLASS_NAME = 'output_bokeh rendered_html';\n",
              "\n",
              "  /**\n",
              "   * Render data to the DOM node\n",
              "   */\n",
              "  function render(props, node) {\n",
              "    var script = document.createElement(\"script\");\n",
              "    node.appendChild(script);\n",
              "  }\n",
              "\n",
              "  /**\n",
              "   * Handle when an output is cleared or removed\n",
              "   */\n",
              "  function handleClearOutput(event, handle) {\n",
              "    var cell = handle.cell;\n",
              "\n",
              "    var id = cell.output_area._bokeh_element_id;\n",
              "    var server_id = cell.output_area._bokeh_server_id;\n",
              "    // Clean up Bokeh references\n",
              "    if (id != null && id in Bokeh.index) {\n",
              "      Bokeh.index[id].model.document.clear();\n",
              "      delete Bokeh.index[id];\n",
              "    }\n",
              "\n",
              "    if (server_id !== undefined) {\n",
              "      // Clean up Bokeh references\n",
              "      var cmd = \"from bokeh.io.state import curstate; print(curstate().uuid_to_server['\" + server_id + \"'].get_sessions()[0].document.roots[0]._id)\";\n",
              "      cell.notebook.kernel.execute(cmd, {\n",
              "        iopub: {\n",
              "          output: function(msg) {\n",
              "            var id = msg.content.text.trim();\n",
              "            if (id in Bokeh.index) {\n",
              "              Bokeh.index[id].model.document.clear();\n",
              "              delete Bokeh.index[id];\n",
              "            }\n",
              "          }\n",
              "        }\n",
              "      });\n",
              "      // Destroy server and session\n",
              "      var cmd = \"import bokeh.io.notebook as ion; ion.destroy_server('\" + server_id + \"')\";\n",
              "      cell.notebook.kernel.execute(cmd);\n",
              "    }\n",
              "  }\n",
              "\n",
              "  /**\n",
              "   * Handle when a new output is added\n",
              "   */\n",
              "  function handleAddOutput(event, handle) {\n",
              "    var output_area = handle.output_area;\n",
              "    var output = handle.output;\n",
              "\n",
              "    // limit handleAddOutput to display_data with EXEC_MIME_TYPE content only\n",
              "    if ((output.output_type != \"display_data\") || (!output.data.hasOwnProperty(EXEC_MIME_TYPE))) {\n",
              "      return\n",
              "    }\n",
              "\n",
              "    var toinsert = output_area.element.find(\".\" + CLASS_NAME.split(' ')[0]);\n",
              "\n",
              "    if (output.metadata[EXEC_MIME_TYPE][\"id\"] !== undefined) {\n",
              "      toinsert[toinsert.length - 1].firstChild.textContent = output.data[JS_MIME_TYPE];\n",
              "      // store reference to embed id on output_area\n",
              "      output_area._bokeh_element_id = output.metadata[EXEC_MIME_TYPE][\"id\"];\n",
              "    }\n",
              "    if (output.metadata[EXEC_MIME_TYPE][\"server_id\"] !== undefined) {\n",
              "      var bk_div = document.createElement(\"div\");\n",
              "      bk_div.innerHTML = output.data[HTML_MIME_TYPE];\n",
              "      var script_attrs = bk_div.children[0].attributes;\n",
              "      for (var i = 0; i < script_attrs.length; i++) {\n",
              "        toinsert[toinsert.length - 1].firstChild.setAttribute(script_attrs[i].name, script_attrs[i].value);\n",
              "      }\n",
              "      // store reference to server id on output_area\n",
              "      output_area._bokeh_server_id = output.metadata[EXEC_MIME_TYPE][\"server_id\"];\n",
              "    }\n",
              "  }\n",
              "\n",
              "  function register_renderer(events, OutputArea) {\n",
              "\n",
              "    function append_mime(data, metadata, element) {\n",
              "      // create a DOM node to render to\n",
              "      var toinsert = this.create_output_subarea(\n",
              "        metadata,\n",
              "        CLASS_NAME,\n",
              "        EXEC_MIME_TYPE\n",
              "      );\n",
              "      this.keyboard_manager.register_events(toinsert);\n",
              "      // Render to node\n",
              "      var props = {data: data, metadata: metadata[EXEC_MIME_TYPE]};\n",
              "      render(props, toinsert[toinsert.length - 1]);\n",
              "      element.append(toinsert);\n",
              "      return toinsert\n",
              "    }\n",
              "\n",
              "    /* Handle when an output is cleared or removed */\n",
              "    events.on('clear_output.CodeCell', handleClearOutput);\n",
              "    events.on('delete.Cell', handleClearOutput);\n",
              "\n",
              "    /* Handle when a new output is added */\n",
              "    events.on('output_added.OutputArea', handleAddOutput);\n",
              "\n",
              "    /**\n",
              "     * Register the mime type and append_mime function with output_area\n",
              "     */\n",
              "    OutputArea.prototype.register_mime_type(EXEC_MIME_TYPE, append_mime, {\n",
              "      /* Is output safe? */\n",
              "      safe: true,\n",
              "      /* Index of renderer in `output_area.display_order` */\n",
              "      index: 0\n",
              "    });\n",
              "  }\n",
              "\n",
              "  // register the mime type if in Jupyter Notebook environment and previously unregistered\n",
              "  if (root.Jupyter !== undefined) {\n",
              "    var events = require('base/js/events');\n",
              "    var OutputArea = require('notebook/js/outputarea').OutputArea;\n",
              "\n",
              "    if (OutputArea.prototype.mime_types().indexOf(EXEC_MIME_TYPE) == -1) {\n",
              "      register_renderer(events, OutputArea);\n",
              "    }\n",
              "  }\n",
              "\n",
              "  \n",
              "  if (typeof (root._bokeh_timeout) === \"undefined\" || force === true) {\n",
              "    root._bokeh_timeout = Date.now() + 5000;\n",
              "    root._bokeh_failed_load = false;\n",
              "  }\n",
              "\n",
              "  var NB_LOAD_WARNING = {'data': {'text/html':\n",
              "     \"<div style='background-color: #fdd'>\\n\"+\n",
              "     \"<p>\\n\"+\n",
              "     \"BokehJS does not appear to have successfully loaded. If loading BokehJS from CDN, this \\n\"+\n",
              "     \"may be due to a slow or bad network connection. Possible fixes:\\n\"+\n",
              "     \"</p>\\n\"+\n",
              "     \"<ul>\\n\"+\n",
              "     \"<li>re-rerun `output_notebook()` to attempt to load from CDN again, or</li>\\n\"+\n",
              "     \"<li>use INLINE resources instead, as so:</li>\\n\"+\n",
              "     \"</ul>\\n\"+\n",
              "     \"<code>\\n\"+\n",
              "     \"from bokeh.resources import INLINE\\n\"+\n",
              "     \"output_notebook(resources=INLINE)\\n\"+\n",
              "     \"</code>\\n\"+\n",
              "     \"</div>\"}};\n",
              "\n",
              "  function display_loaded() {\n",
              "    var el = document.getElementById(\"1185\");\n",
              "    if (el != null) {\n",
              "      el.textContent = \"BokehJS is loading...\";\n",
              "    }\n",
              "    if (root.Bokeh !== undefined) {\n",
              "      if (el != null) {\n",
              "        el.textContent = \"BokehJS \" + root.Bokeh.version + \" successfully loaded.\";\n",
              "      }\n",
              "    } else if (Date.now() < root._bokeh_timeout) {\n",
              "      setTimeout(display_loaded, 100)\n",
              "    }\n",
              "  }\n",
              "\n",
              "\n",
              "  function run_callbacks() {\n",
              "    try {\n",
              "      root._bokeh_onload_callbacks.forEach(function(callback) { callback() });\n",
              "    }\n",
              "    finally {\n",
              "      delete root._bokeh_onload_callbacks\n",
              "    }\n",
              "    console.info(\"Bokeh: all callbacks have finished\");\n",
              "  }\n",
              "\n",
              "  function load_libs(js_urls, callback) {\n",
              "    root._bokeh_onload_callbacks.push(callback);\n",
              "    if (root._bokeh_is_loading > 0) {\n",
              "      console.log(\"Bokeh: BokehJS is being loaded, scheduling callback at\", now());\n",
              "      return null;\n",
              "    }\n",
              "    if (js_urls == null || js_urls.length === 0) {\n",
              "      run_callbacks();\n",
              "      return null;\n",
              "    }\n",
              "    console.log(\"Bokeh: BokehJS not loaded, scheduling load and callback at\", now());\n",
              "    root._bokeh_is_loading = js_urls.length;\n",
              "    for (var i = 0; i < js_urls.length; i++) {\n",
              "      var url = js_urls[i];\n",
              "      var s = document.createElement('script');\n",
              "      s.src = url;\n",
              "      s.async = false;\n",
              "      s.onreadystatechange = s.onload = function() {\n",
              "        root._bokeh_is_loading--;\n",
              "        if (root._bokeh_is_loading === 0) {\n",
              "          console.log(\"Bokeh: all BokehJS libraries loaded\");\n",
              "          run_callbacks()\n",
              "        }\n",
              "      };\n",
              "      s.onerror = function() {\n",
              "        console.warn(\"failed to load library \" + url);\n",
              "      };\n",
              "      console.log(\"Bokeh: injecting script tag for BokehJS library: \", url);\n",
              "      document.getElementsByTagName(\"head\")[0].appendChild(s);\n",
              "    }\n",
              "  };var element = document.getElementById(\"1185\");\n",
              "  if (element == null) {\n",
              "    console.log(\"Bokeh: ERROR: autoload.js configured with elementid '1185' but no matching script tag was found. \")\n",
              "    return false;\n",
              "  }\n",
              "\n",
              "  var js_urls = [\"https://cdn.pydata.org/bokeh/release/bokeh-1.0.4.min.js\", \"https://cdn.pydata.org/bokeh/release/bokeh-widgets-1.0.4.min.js\", \"https://cdn.pydata.org/bokeh/release/bokeh-tables-1.0.4.min.js\", \"https://cdn.pydata.org/bokeh/release/bokeh-gl-1.0.4.min.js\"];\n",
              "\n",
              "  var inline_js = [\n",
              "    function(Bokeh) {\n",
              "      Bokeh.set_log_level(\"info\");\n",
              "    },\n",
              "    \n",
              "    function(Bokeh) {\n",
              "      \n",
              "    },\n",
              "    function(Bokeh) {\n",
              "      console.log(\"Bokeh: injecting CSS: https://cdn.pydata.org/bokeh/release/bokeh-1.0.4.min.css\");\n",
              "      Bokeh.embed.inject_css(\"https://cdn.pydata.org/bokeh/release/bokeh-1.0.4.min.css\");\n",
              "      console.log(\"Bokeh: injecting CSS: https://cdn.pydata.org/bokeh/release/bokeh-widgets-1.0.4.min.css\");\n",
              "      Bokeh.embed.inject_css(\"https://cdn.pydata.org/bokeh/release/bokeh-widgets-1.0.4.min.css\");\n",
              "      console.log(\"Bokeh: injecting CSS: https://cdn.pydata.org/bokeh/release/bokeh-tables-1.0.4.min.css\");\n",
              "      Bokeh.embed.inject_css(\"https://cdn.pydata.org/bokeh/release/bokeh-tables-1.0.4.min.css\");\n",
              "    }\n",
              "  ];\n",
              "\n",
              "  function run_inline_js() {\n",
              "    \n",
              "    if ((root.Bokeh !== undefined) || (force === true)) {\n",
              "      for (var i = 0; i < inline_js.length; i++) {\n",
              "        inline_js[i].call(root, root.Bokeh);\n",
              "      }if (force === true) {\n",
              "        display_loaded();\n",
              "      }} else if (Date.now() < root._bokeh_timeout) {\n",
              "      setTimeout(run_inline_js, 100);\n",
              "    } else if (!root._bokeh_failed_load) {\n",
              "      console.log(\"Bokeh: BokehJS failed to load within specified timeout.\");\n",
              "      root._bokeh_failed_load = true;\n",
              "    } else if (force !== true) {\n",
              "      var cell = $(document.getElementById(\"1185\")).parents('.cell').data().cell;\n",
              "      cell.output_area.append_execute_result(NB_LOAD_WARNING)\n",
              "    }\n",
              "\n",
              "  }\n",
              "\n",
              "  if (root._bokeh_is_loading === 0) {\n",
              "    console.log(\"Bokeh: BokehJS loaded, going straight to plotting\");\n",
              "    run_inline_js();\n",
              "  } else {\n",
              "    load_libs(js_urls, function() {\n",
              "      console.log(\"Bokeh: BokehJS plotting callback run at\", now());\n",
              "      run_inline_js();\n",
              "    });\n",
              "  }\n",
              "}(window));"
            ],
            "application/vnd.bokehjs_load.v0+json": "\n(function(root) {\n  function now() {\n    return new Date();\n  }\n\n  var force = true;\n\n  if (typeof (root._bokeh_onload_callbacks) === \"undefined\" || force === true) {\n    root._bokeh_onload_callbacks = [];\n    root._bokeh_is_loading = undefined;\n  }\n\n  \n\n  \n  if (typeof (root._bokeh_timeout) === \"undefined\" || force === true) {\n    root._bokeh_timeout = Date.now() + 5000;\n    root._bokeh_failed_load = false;\n  }\n\n  var NB_LOAD_WARNING = {'data': {'text/html':\n     \"<div style='background-color: #fdd'>\\n\"+\n     \"<p>\\n\"+\n     \"BokehJS does not appear to have successfully loaded. If loading BokehJS from CDN, this \\n\"+\n     \"may be due to a slow or bad network connection. Possible fixes:\\n\"+\n     \"</p>\\n\"+\n     \"<ul>\\n\"+\n     \"<li>re-rerun `output_notebook()` to attempt to load from CDN again, or</li>\\n\"+\n     \"<li>use INLINE resources instead, as so:</li>\\n\"+\n     \"</ul>\\n\"+\n     \"<code>\\n\"+\n     \"from bokeh.resources import INLINE\\n\"+\n     \"output_notebook(resources=INLINE)\\n\"+\n     \"</code>\\n\"+\n     \"</div>\"}};\n\n  function display_loaded() {\n    var el = document.getElementById(\"1185\");\n    if (el != null) {\n      el.textContent = \"BokehJS is loading...\";\n    }\n    if (root.Bokeh !== undefined) {\n      if (el != null) {\n        el.textContent = \"BokehJS \" + root.Bokeh.version + \" successfully loaded.\";\n      }\n    } else if (Date.now() < root._bokeh_timeout) {\n      setTimeout(display_loaded, 100)\n    }\n  }\n\n\n  function run_callbacks() {\n    try {\n      root._bokeh_onload_callbacks.forEach(function(callback) { callback() });\n    }\n    finally {\n      delete root._bokeh_onload_callbacks\n    }\n    console.info(\"Bokeh: all callbacks have finished\");\n  }\n\n  function load_libs(js_urls, callback) {\n    root._bokeh_onload_callbacks.push(callback);\n    if (root._bokeh_is_loading > 0) {\n      console.log(\"Bokeh: BokehJS is being loaded, scheduling callback at\", now());\n      return null;\n    }\n    if (js_urls == null || js_urls.length === 0) {\n      run_callbacks();\n      return null;\n    }\n    console.log(\"Bokeh: BokehJS not loaded, scheduling load and callback at\", now());\n    root._bokeh_is_loading = js_urls.length;\n    for (var i = 0; i < js_urls.length; i++) {\n      var url = js_urls[i];\n      var s = document.createElement('script');\n      s.src = url;\n      s.async = false;\n      s.onreadystatechange = s.onload = function() {\n        root._bokeh_is_loading--;\n        if (root._bokeh_is_loading === 0) {\n          console.log(\"Bokeh: all BokehJS libraries loaded\");\n          run_callbacks()\n        }\n      };\n      s.onerror = function() {\n        console.warn(\"failed to load library \" + url);\n      };\n      console.log(\"Bokeh: injecting script tag for BokehJS library: \", url);\n      document.getElementsByTagName(\"head\")[0].appendChild(s);\n    }\n  };var element = document.getElementById(\"1185\");\n  if (element == null) {\n    console.log(\"Bokeh: ERROR: autoload.js configured with elementid '1185' but no matching script tag was found. \")\n    return false;\n  }\n\n  var js_urls = [\"https://cdn.pydata.org/bokeh/release/bokeh-1.0.4.min.js\", \"https://cdn.pydata.org/bokeh/release/bokeh-widgets-1.0.4.min.js\", \"https://cdn.pydata.org/bokeh/release/bokeh-tables-1.0.4.min.js\", \"https://cdn.pydata.org/bokeh/release/bokeh-gl-1.0.4.min.js\"];\n\n  var inline_js = [\n    function(Bokeh) {\n      Bokeh.set_log_level(\"info\");\n    },\n    \n    function(Bokeh) {\n      \n    },\n    function(Bokeh) {\n      console.log(\"Bokeh: injecting CSS: https://cdn.pydata.org/bokeh/release/bokeh-1.0.4.min.css\");\n      Bokeh.embed.inject_css(\"https://cdn.pydata.org/bokeh/release/bokeh-1.0.4.min.css\");\n      console.log(\"Bokeh: injecting CSS: https://cdn.pydata.org/bokeh/release/bokeh-widgets-1.0.4.min.css\");\n      Bokeh.embed.inject_css(\"https://cdn.pydata.org/bokeh/release/bokeh-widgets-1.0.4.min.css\");\n      console.log(\"Bokeh: injecting CSS: https://cdn.pydata.org/bokeh/release/bokeh-tables-1.0.4.min.css\");\n      Bokeh.embed.inject_css(\"https://cdn.pydata.org/bokeh/release/bokeh-tables-1.0.4.min.css\");\n    }\n  ];\n\n  function run_inline_js() {\n    \n    if ((root.Bokeh !== undefined) || (force === true)) {\n      for (var i = 0; i < inline_js.length; i++) {\n        inline_js[i].call(root, root.Bokeh);\n      }if (force === true) {\n        display_loaded();\n      }} else if (Date.now() < root._bokeh_timeout) {\n      setTimeout(run_inline_js, 100);\n    } else if (!root._bokeh_failed_load) {\n      console.log(\"Bokeh: BokehJS failed to load within specified timeout.\");\n      root._bokeh_failed_load = true;\n    } else if (force !== true) {\n      var cell = $(document.getElementById(\"1185\")).parents('.cell').data().cell;\n      cell.output_area.append_execute_result(NB_LOAD_WARNING)\n    }\n\n  }\n\n  if (root._bokeh_is_loading === 0) {\n    console.log(\"Bokeh: BokehJS loaded, going straight to plotting\");\n    run_inline_js();\n  } else {\n    load_libs(js_urls, function() {\n      console.log(\"Bokeh: BokehJS plotting callback run at\", now());\n      run_inline_js();\n    });\n  }\n}(window));"
          },
          "metadata": {
            "tags": []
          }
        },
        {
          "output_type": "display_data",
          "data": {
            "text/html": [
              "\n",
              "\n",
              "\n",
              "\n",
              "\n",
              "\n",
              "  <div class=\"bk-root\" id=\"ef7fa780-823c-473c-8601-cc1337910c6b\" data-root-id=\"1107\"></div>\n"
            ]
          },
          "metadata": {
            "tags": []
          }
        },
        {
          "output_type": "display_data",
          "data": {
            "application/javascript": [
              "(function(root) {\n",
              "  function embed_document(root) {\n",
              "    \n",
              "  var docs_json = {\"f3f7b455-6fbc-484a-8d71-40f094b95a6b\":{\"roots\":{\"references\":[{\"attributes\":{\"below\":[{\"id\":\"1116\",\"type\":\"LinearAxis\"}],\"left\":[{\"id\":\"1121\",\"type\":\"CategoricalAxis\"}],\"output_backend\":\"svg\",\"plot_height\":200,\"plot_width\":800,\"renderers\":[{\"id\":\"1116\",\"type\":\"LinearAxis\"},{\"id\":\"1120\",\"type\":\"Grid\"},{\"id\":\"1121\",\"type\":\"CategoricalAxis\"},{\"id\":\"1124\",\"type\":\"Grid\"},{\"id\":\"1133\",\"type\":\"BoxAnnotation\"},{\"id\":\"1143\",\"type\":\"GlyphRenderer\"}],\"title\":{\"id\":\"1196\",\"type\":\"Title\"},\"toolbar\":{\"id\":\"1130\",\"type\":\"Toolbar\"},\"x_range\":{\"id\":\"1108\",\"type\":\"DataRange1d\"},\"x_scale\":{\"id\":\"1112\",\"type\":\"LinearScale\"},\"y_range\":{\"id\":\"1110\",\"type\":\"FactorRange\"},\"y_scale\":{\"id\":\"1114\",\"type\":\"CategoricalScale\"}},\"id\":\"1107\",\"subtype\":\"Figure\",\"type\":\"Plot\"},{\"attributes\":{\"source\":{\"id\":\"1105\",\"type\":\"ColumnDataSource\"}},\"id\":\"1144\",\"type\":\"CDSView\"},{\"attributes\":{},\"id\":\"1112\",\"type\":\"LinearScale\"},{\"attributes\":{\"callback\":null},\"id\":\"1108\",\"type\":\"DataRange1d\"},{\"attributes\":{},\"id\":\"1114\",\"type\":\"CategoricalScale\"},{\"attributes\":{\"fill_color\":{\"value\":\"grey\"},\"height\":{\"units\":\"data\",\"value\":0.9},\"line_color\":{\"value\":\"grey\"},\"line_width\":{\"value\":0},\"width\":{\"field\":\"duration\",\"units\":\"data\"},\"x\":{\"field\":\"time_shift\"},\"y\":{\"field\":\"node\"}},\"id\":\"1142\",\"type\":\"Rect\"},{\"attributes\":{\"grid_line_color\":{\"value\":null},\"plot\":{\"id\":\"1107\",\"subtype\":\"Figure\",\"type\":\"Plot\"},\"ticker\":{\"id\":\"1117\",\"type\":\"BasicTicker\"}},\"id\":\"1120\",\"type\":\"Grid\"},{\"attributes\":{\"callback\":null,\"data\":{\"color\":[\"gainsboro\",\"gainsboro\",\"gainsboro\",\"gainsboro\",\"gainsboro\",\"gainsboro\",\"gainsboro\"],\"com\":[\"no\",\"no\",\"no\",\"no\",\"no\",\"no\",\"no\"],\"duration\":[1,1,1,1,1,1,1],\"duration_display\":[1,1,1,1,1,1,1],\"index\":[\"1|a\",\"2|a\",\"2|b\",\"2|c\",\"2|d\",\"3|d\",\"3|b\"],\"node\":[\"a\",\"a\",\"b\",\"c\",\"d\",\"d\",\"b\"],\"time\":[1,2,2,2,2,3,3],\"time_shift\":[1.5,2.5,2.5,2.5,2.5,3.5,3.5]},\"selected\":{\"id\":\"1201\",\"type\":\"Selection\"},\"selection_policy\":{\"id\":\"1202\",\"type\":\"UnionRenderers\"}},\"id\":\"1105\",\"type\":\"ColumnDataSource\"},{\"attributes\":{\"fill_alpha\":{\"value\":0.1},\"fill_color\":{\"value\":\"#1f77b4\"},\"height\":{\"units\":\"data\",\"value\":0.9},\"line_alpha\":{\"value\":0.1},\"line_color\":{\"value\":\"#1f77b4\"},\"line_width\":{\"value\":0},\"width\":{\"field\":\"duration\",\"units\":\"data\"},\"x\":{\"field\":\"time_shift\"},\"y\":{\"field\":\"node\"}},\"id\":\"1141\",\"type\":\"Rect\"},{\"attributes\":{},\"id\":\"1117\",\"type\":\"BasicTicker\"},{\"attributes\":{\"dimension\":1,\"grid_line_color\":{\"value\":null},\"plot\":{\"id\":\"1107\",\"subtype\":\"Figure\",\"type\":\"Plot\"},\"ticker\":{\"id\":\"1122\",\"type\":\"CategoricalTicker\"}},\"id\":\"1124\",\"type\":\"Grid\"},{\"attributes\":{},\"id\":\"1122\",\"type\":\"CategoricalTicker\"},{\"attributes\":{\"callback\":null,\"factors\":[\"a\",\"b\",\"c\",\"d\"]},\"id\":\"1110\",\"type\":\"FactorRange\"},{\"attributes\":{\"formatter\":{\"id\":\"1200\",\"type\":\"CategoricalTickFormatter\"},\"plot\":{\"id\":\"1107\",\"subtype\":\"Figure\",\"type\":\"Plot\"},\"ticker\":{\"id\":\"1122\",\"type\":\"CategoricalTicker\"}},\"id\":\"1121\",\"type\":\"CategoricalAxis\"},{\"attributes\":{},\"id\":\"1126\",\"type\":\"WheelZoomTool\"},{\"attributes\":{},\"id\":\"1125\",\"type\":\"ResetTool\"},{\"attributes\":{\"active_drag\":\"auto\",\"active_inspect\":\"auto\",\"active_multi\":null,\"active_scroll\":\"auto\",\"active_tap\":\"auto\",\"tools\":[{\"id\":\"1106\",\"type\":\"HoverTool\"},{\"id\":\"1125\",\"type\":\"ResetTool\"},{\"id\":\"1126\",\"type\":\"WheelZoomTool\"},{\"id\":\"1127\",\"type\":\"BoxZoomTool\"},{\"id\":\"1128\",\"type\":\"PanTool\"},{\"id\":\"1129\",\"type\":\"SaveTool\"}]},\"id\":\"1130\",\"type\":\"Toolbar\"},{\"attributes\":{\"fill_color\":{\"field\":\"color\"},\"height\":{\"units\":\"data\",\"value\":0.9},\"line_color\":{\"value\":null},\"line_width\":{\"value\":0},\"width\":{\"field\":\"duration\",\"units\":\"data\"},\"x\":{\"field\":\"time_shift\"},\"y\":{\"field\":\"node\"}},\"id\":\"1140\",\"type\":\"Rect\"},{\"attributes\":{\"plot\":null,\"text\":\"\"},\"id\":\"1196\",\"type\":\"Title\"},{\"attributes\":{},\"id\":\"1198\",\"type\":\"BasicTickFormatter\"},{\"attributes\":{},\"id\":\"1128\",\"type\":\"PanTool\"},{\"attributes\":{},\"id\":\"1200\",\"type\":\"CategoricalTickFormatter\"},{\"attributes\":{\"overlay\":{\"id\":\"1133\",\"type\":\"BoxAnnotation\"}},\"id\":\"1127\",\"type\":\"BoxZoomTool\"},{\"attributes\":{\"formatter\":{\"id\":\"1198\",\"type\":\"BasicTickFormatter\"},\"plot\":{\"id\":\"1107\",\"subtype\":\"Figure\",\"type\":\"Plot\"},\"ticker\":{\"id\":\"1117\",\"type\":\"BasicTicker\"}},\"id\":\"1116\",\"type\":\"LinearAxis\"},{\"attributes\":{\"bottom_units\":\"screen\",\"fill_alpha\":{\"value\":0.5},\"fill_color\":{\"value\":\"lightgrey\"},\"left_units\":\"screen\",\"level\":\"overlay\",\"line_alpha\":{\"value\":1.0},\"line_color\":{\"value\":\"black\"},\"line_dash\":[4,4],\"line_width\":{\"value\":2},\"plot\":null,\"render_mode\":\"css\",\"right_units\":\"screen\",\"top_units\":\"screen\"},\"id\":\"1133\",\"type\":\"BoxAnnotation\"},{\"attributes\":{\"callback\":null,\"point_policy\":\"follow_mouse\",\"tooltips\":[[\"name\",\"@node\"],[\"community\",\"@com\"],[\"start\",\"@time\"],[\"duration\",\"@{duration_display}\"]]},\"id\":\"1106\",\"type\":\"HoverTool\"},{\"attributes\":{},\"id\":\"1201\",\"type\":\"Selection\"},{\"attributes\":{},\"id\":\"1202\",\"type\":\"UnionRenderers\"},{\"attributes\":{\"data_source\":{\"id\":\"1105\",\"type\":\"ColumnDataSource\"},\"glyph\":{\"id\":\"1140\",\"type\":\"Rect\"},\"hover_glyph\":{\"id\":\"1142\",\"type\":\"Rect\"},\"muted_glyph\":null,\"nonselection_glyph\":{\"id\":\"1141\",\"type\":\"Rect\"},\"selection_glyph\":null,\"view\":{\"id\":\"1144\",\"type\":\"CDSView\"}},\"id\":\"1143\",\"type\":\"GlyphRenderer\"},{\"attributes\":{},\"id\":\"1129\",\"type\":\"SaveTool\"}],\"root_ids\":[\"1107\"]},\"title\":\"Bokeh Application\",\"version\":\"1.0.4\"}};\n",
              "  var render_items = [{\"docid\":\"f3f7b455-6fbc-484a-8d71-40f094b95a6b\",\"roots\":{\"1107\":\"ef7fa780-823c-473c-8601-cc1337910c6b\"}}];\n",
              "  root.Bokeh.embed.embed_items_notebook(docs_json, render_items);\n",
              "\n",
              "  }\n",
              "  if (root.Bokeh !== undefined) {\n",
              "    embed_document(root);\n",
              "  } else {\n",
              "    var attempts = 0;\n",
              "    var timer = setInterval(function(root) {\n",
              "      if (root.Bokeh !== undefined) {\n",
              "        embed_document(root);\n",
              "        clearInterval(timer);\n",
              "      }\n",
              "      attempts++;\n",
              "      if (attempts > 100) {\n",
              "        console.log(\"Bokeh: ERROR: Unable to run BokehJS code because BokehJS library is missing\");\n",
              "        clearInterval(timer);\n",
              "      }\n",
              "    }, 10, root)\n",
              "  }\n",
              "})(window);"
            ],
            "application/vnd.bokehjs_exec.v0+json": ""
          },
          "metadata": {
            "tags": [],
            "application/vnd.bokehjs_exec.v0+json": {
              "id": "1107"
            }
          }
        },
        {
          "output_type": "display_data",
          "data": {
            "text/html": [
              "\n",
              "\n",
              "\n",
              "\n",
              "\n",
              "\n",
              "  <div class=\"bk-root\" id=\"dbf914b3-3168-4a8a-bce0-46c4bf4fd0b7\" data-root-id=\"1147\"></div>\n"
            ]
          },
          "metadata": {
            "tags": []
          }
        },
        {
          "output_type": "display_data",
          "data": {
            "application/javascript": [
              "(function(root) {\n",
              "  function embed_document(root) {\n",
              "    \n",
              "  var docs_json = {\"cfea1840-4f68-4852-82ef-ca75e6a70e72\":{\"roots\":{\"references\":[{\"attributes\":{\"below\":[{\"id\":\"1156\",\"type\":\"LinearAxis\"}],\"left\":[{\"id\":\"1161\",\"type\":\"CategoricalAxis\"}],\"output_backend\":\"svg\",\"plot_height\":200,\"plot_width\":800,\"renderers\":[{\"id\":\"1156\",\"type\":\"LinearAxis\"},{\"id\":\"1160\",\"type\":\"Grid\"},{\"id\":\"1161\",\"type\":\"CategoricalAxis\"},{\"id\":\"1164\",\"type\":\"Grid\"},{\"id\":\"1173\",\"type\":\"BoxAnnotation\"},{\"id\":\"1183\",\"type\":\"GlyphRenderer\"}],\"title\":{\"id\":\"1277\",\"type\":\"Title\"},\"toolbar\":{\"id\":\"1170\",\"type\":\"Toolbar\"},\"x_range\":{\"id\":\"1148\",\"type\":\"DataRange1d\"},\"x_scale\":{\"id\":\"1152\",\"type\":\"LinearScale\"},\"y_range\":{\"id\":\"1150\",\"type\":\"FactorRange\"},\"y_scale\":{\"id\":\"1154\",\"type\":\"CategoricalScale\"}},\"id\":\"1147\",\"subtype\":\"Figure\",\"type\":\"Plot\"},{\"attributes\":{},\"id\":\"1162\",\"type\":\"CategoricalTicker\"},{\"attributes\":{\"dimension\":1,\"grid_line_color\":{\"value\":null},\"plot\":{\"id\":\"1147\",\"subtype\":\"Figure\",\"type\":\"Plot\"},\"ticker\":{\"id\":\"1162\",\"type\":\"CategoricalTicker\"}},\"id\":\"1164\",\"type\":\"Grid\"},{\"attributes\":{\"data_source\":{\"id\":\"1145\",\"type\":\"ColumnDataSource\"},\"glyph\":{\"id\":\"1180\",\"type\":\"Rect\"},\"hover_glyph\":{\"id\":\"1182\",\"type\":\"Rect\"},\"muted_glyph\":null,\"nonselection_glyph\":{\"id\":\"1181\",\"type\":\"Rect\"},\"selection_glyph\":null,\"view\":{\"id\":\"1184\",\"type\":\"CDSView\"}},\"id\":\"1183\",\"type\":\"GlyphRenderer\"},{\"attributes\":{\"fill_color\":{\"field\":\"color\"},\"height\":{\"units\":\"data\",\"value\":0.9},\"line_color\":{\"value\":null},\"line_width\":{\"value\":0},\"width\":{\"field\":\"duration\",\"units\":\"data\"},\"x\":{\"field\":\"time_shift\"},\"y\":{\"field\":\"node\"}},\"id\":\"1180\",\"type\":\"Rect\"},{\"attributes\":{},\"id\":\"1152\",\"type\":\"LinearScale\"},{\"attributes\":{\"active_drag\":\"auto\",\"active_inspect\":\"auto\",\"active_multi\":null,\"active_scroll\":\"auto\",\"active_tap\":\"auto\",\"tools\":[{\"id\":\"1146\",\"type\":\"HoverTool\"},{\"id\":\"1165\",\"type\":\"ResetTool\"},{\"id\":\"1166\",\"type\":\"WheelZoomTool\"},{\"id\":\"1167\",\"type\":\"BoxZoomTool\"},{\"id\":\"1168\",\"type\":\"PanTool\"},{\"id\":\"1169\",\"type\":\"SaveTool\"}]},\"id\":\"1170\",\"type\":\"Toolbar\"},{\"attributes\":{},\"id\":\"1165\",\"type\":\"ResetTool\"},{\"attributes\":{\"callback\":null,\"factors\":[\"a\",\"b\",\"c\",\"d\"]},\"id\":\"1150\",\"type\":\"FactorRange\"},{\"attributes\":{},\"id\":\"1154\",\"type\":\"CategoricalScale\"},{\"attributes\":{},\"id\":\"1166\",\"type\":\"WheelZoomTool\"},{\"attributes\":{},\"id\":\"1279\",\"type\":\"BasicTickFormatter\"},{\"attributes\":{\"overlay\":{\"id\":\"1173\",\"type\":\"BoxAnnotation\"}},\"id\":\"1167\",\"type\":\"BoxZoomTool\"},{\"attributes\":{\"fill_color\":{\"value\":\"grey\"},\"height\":{\"units\":\"data\",\"value\":0.9},\"line_color\":{\"value\":\"grey\"},\"line_width\":{\"value\":0},\"width\":{\"field\":\"duration\",\"units\":\"data\"},\"x\":{\"field\":\"time_shift\"},\"y\":{\"field\":\"node\"}},\"id\":\"1182\",\"type\":\"Rect\"},{\"attributes\":{\"callback\":null,\"point_policy\":\"follow_mouse\",\"tooltips\":[[\"name\",\"@node\"],[\"community\",\"@com\"],[\"start\",\"@time\"],[\"duration\",\"@{duration_display}\"]]},\"id\":\"1146\",\"type\":\"HoverTool\"},{\"attributes\":{},\"id\":\"1168\",\"type\":\"PanTool\"},{\"attributes\":{\"callback\":null,\"data\":{\"color\":[\"gainsboro\",\"gainsboro\",\"gainsboro\",\"gainsboro\"],\"com\":[\"no\",\"no\",\"no\",\"no\"],\"duration\":[2,2,1,2],\"duration_display\":[2,2,1,2],\"index\":[\"1|a\",\"2|b\",\"2|c\",\"2|d\"],\"node\":[\"a\",\"b\",\"c\",\"d\"],\"time\":[1,2,2,2],\"time_shift\":[2.0,3.0,2.5,3.0]},\"selected\":{\"id\":\"1282\",\"type\":\"Selection\"},\"selection_policy\":{\"id\":\"1283\",\"type\":\"UnionRenderers\"}},\"id\":\"1145\",\"type\":\"ColumnDataSource\"},{\"attributes\":{},\"id\":\"1169\",\"type\":\"SaveTool\"},{\"attributes\":{\"formatter\":{\"id\":\"1279\",\"type\":\"BasicTickFormatter\"},\"plot\":{\"id\":\"1147\",\"subtype\":\"Figure\",\"type\":\"Plot\"},\"ticker\":{\"id\":\"1157\",\"type\":\"BasicTicker\"}},\"id\":\"1156\",\"type\":\"LinearAxis\"},{\"attributes\":{\"plot\":null,\"text\":\"\"},\"id\":\"1277\",\"type\":\"Title\"},{\"attributes\":{\"bottom_units\":\"screen\",\"fill_alpha\":{\"value\":0.5},\"fill_color\":{\"value\":\"lightgrey\"},\"left_units\":\"screen\",\"level\":\"overlay\",\"line_alpha\":{\"value\":1.0},\"line_color\":{\"value\":\"black\"},\"line_dash\":[4,4],\"line_width\":{\"value\":2},\"plot\":null,\"render_mode\":\"css\",\"right_units\":\"screen\",\"top_units\":\"screen\"},\"id\":\"1173\",\"type\":\"BoxAnnotation\"},{\"attributes\":{\"fill_alpha\":{\"value\":0.1},\"fill_color\":{\"value\":\"#1f77b4\"},\"height\":{\"units\":\"data\",\"value\":0.9},\"line_alpha\":{\"value\":0.1},\"line_color\":{\"value\":\"#1f77b4\"},\"line_width\":{\"value\":0},\"width\":{\"field\":\"duration\",\"units\":\"data\"},\"x\":{\"field\":\"time_shift\"},\"y\":{\"field\":\"node\"}},\"id\":\"1181\",\"type\":\"Rect\"},{\"attributes\":{\"callback\":null},\"id\":\"1148\",\"type\":\"DataRange1d\"},{\"attributes\":{},\"id\":\"1157\",\"type\":\"BasicTicker\"},{\"attributes\":{\"grid_line_color\":{\"value\":null},\"plot\":{\"id\":\"1147\",\"subtype\":\"Figure\",\"type\":\"Plot\"},\"ticker\":{\"id\":\"1157\",\"type\":\"BasicTicker\"}},\"id\":\"1160\",\"type\":\"Grid\"},{\"attributes\":{},\"id\":\"1283\",\"type\":\"UnionRenderers\"},{\"attributes\":{\"formatter\":{\"id\":\"1281\",\"type\":\"CategoricalTickFormatter\"},\"plot\":{\"id\":\"1147\",\"subtype\":\"Figure\",\"type\":\"Plot\"},\"ticker\":{\"id\":\"1162\",\"type\":\"CategoricalTicker\"}},\"id\":\"1161\",\"type\":\"CategoricalAxis\"},{\"attributes\":{},\"id\":\"1282\",\"type\":\"Selection\"},{\"attributes\":{\"source\":{\"id\":\"1145\",\"type\":\"ColumnDataSource\"}},\"id\":\"1184\",\"type\":\"CDSView\"},{\"attributes\":{},\"id\":\"1281\",\"type\":\"CategoricalTickFormatter\"}],\"root_ids\":[\"1147\"]},\"title\":\"Bokeh Application\",\"version\":\"1.0.4\"}};\n",
              "  var render_items = [{\"docid\":\"cfea1840-4f68-4852-82ef-ca75e6a70e72\",\"roots\":{\"1147\":\"dbf914b3-3168-4a8a-bce0-46c4bf4fd0b7\"}}];\n",
              "  root.Bokeh.embed.embed_items_notebook(docs_json, render_items);\n",
              "\n",
              "  }\n",
              "  if (root.Bokeh !== undefined) {\n",
              "    embed_document(root);\n",
              "  } else {\n",
              "    var attempts = 0;\n",
              "    var timer = setInterval(function(root) {\n",
              "      if (root.Bokeh !== undefined) {\n",
              "        embed_document(root);\n",
              "        clearInterval(timer);\n",
              "      }\n",
              "      attempts++;\n",
              "      if (attempts > 100) {\n",
              "        console.log(\"Bokeh: ERROR: Unable to run BokehJS code because BokehJS library is missing\");\n",
              "        clearInterval(timer);\n",
              "      }\n",
              "    }, 10, root)\n",
              "  }\n",
              "})(window);"
            ],
            "application/vnd.bokehjs_exec.v0+json": ""
          },
          "metadata": {
            "tags": [],
            "application/vnd.bokehjs_exec.v0+json": {
              "id": "1147"
            }
          }
        }
      ]
    },
    {
      "metadata": {
        "id": "mri1TMSp6Cuf",
        "colab_type": "text"
      },
      "cell_type": "markdown",
      "source": [
        "<a id='conversion'></a>\n",
        "\n",
        "# Conversion between snapshots and interval graphs\n",
        "We convert the snapshot representation into an interval graph representation, using a snapshot lenght of 1. \n",
        "\n",
        "We check that both graphs are now similar"
      ]
    },
    {
      "metadata": {
        "id": "wGlIom-PhRZn",
        "colab_type": "code",
        "outputId": "dd47a8d8-3641-4529-9ad0-9c8e7e9dc3fa",
        "colab": {
          "base_uri": "https://localhost:8080/",
          "height": 51
        }
      },
      "cell_type": "code",
      "source": [
        "converted_to_IG = dg_sn.to_DynGraphSG(sn_duration=1)\n",
        "print(converted_to_IG.node_presence())\n",
        "print(dg_ig.node_presence())"
      ],
      "execution_count": 25,
      "outputs": [
        {
          "output_type": "stream",
          "text": [
            "{'a': [1,3[ , 'b': [2,4[ , 'c': [2,3[ , 'd': [2,4[ }\n",
            "{'a': [1,3[ , 'b': [2,4[ , 'c': [2,3[ , 'd': [2,4[ }\n"
          ],
          "name": "stdout"
        }
      ]
    },
    {
      "metadata": {
        "id": "TxL5hGKX67-L",
        "colab_type": "text"
      },
      "cell_type": "markdown",
      "source": [
        "Reciprocally, we transform the interval graph into a snapshot representation and check the similarity"
      ]
    },
    {
      "metadata": {
        "id": "hyj4TUdbyjGx",
        "colab_type": "code",
        "colab": {
          "base_uri": "https://localhost:8080/",
          "height": 51
        },
        "outputId": "72819307-2ec4-4c36-c34a-b3132f234dd8"
      },
      "cell_type": "code",
      "source": [
        "converted_to_SN = dg_ig.to_DynGraphSN(slices=1)\n",
        "print(converted_to_SN.node_presence())\n",
        "print(dg_sn.node_presence())"
      ],
      "execution_count": 27,
      "outputs": [
        {
          "output_type": "stream",
          "text": [
            "{'a': [1, 2], 'b': [2, 3], 'c': [2], 'd': [2, 3]}\n",
            "{'a': [1, 2], 'b': [2, 3], 'c': [2], 'd': [2, 3]}\n"
          ],
          "name": "stdout"
        }
      ]
    },
    {
      "metadata": {
        "id": "l6geADSO7LDb",
        "colab_type": "text"
      },
      "cell_type": "markdown",
      "source": [
        "<a id='aggregation'></a>\n",
        "\n",
        "# Aggregation\n",
        "Sometimes, it is useful to study dynamic network with a lesser temporal granularity than the original data.\n",
        "\n",
        "Several functions can be used to aggregate dynamic graphs, thus yielding snapshots covering larger periods.\n",
        "\n",
        "Do exemplify this usage, we use a dataset from the sociopatterns project (http://www.sociopatterns.org) that can be loaded in a single command"
      ]
    },
    {
      "metadata": {
        "id": "BE7L9tBA1FNH",
        "colab_type": "code",
        "colab": {}
      },
      "cell_type": "code",
      "source": [
        "sociopatterns = tn.DynGraphSN.graph_socioPatterns2012()"
      ],
      "execution_count": 0,
      "outputs": []
    },
    {
      "metadata": {
        "id": "dKO13kfV8YO7",
        "colab_type": "text"
      },
      "cell_type": "markdown",
      "source": [
        "For this original network loaded as a snapshot representation, we print the number of snapshots and the first and last dates (the dataset covers 9 days, including a week-end with no activity)"
      ]
    },
    {
      "metadata": {
        "id": "zlzT1S2c2zKb",
        "colab_type": "code",
        "colab": {
          "base_uri": "https://localhost:8080/",
          "height": 51
        },
        "outputId": "05cf3f25-7c4a-40bc-cb56-fc083548eefa"
      },
      "cell_type": "code",
      "source": [
        "from datetime import datetime\n",
        "all_times = sociopatterns.snapshots_timesteps()\n",
        "print(\"# snapshots:\",len(all_times))\n",
        "print(\"first date:\",datetime.utcfromtimestamp(all_times[0]),\" laste date:\",datetime.utcfromtimestamp(all_times[-1]))"
      ],
      "execution_count": 48,
      "outputs": [
        {
          "output_type": "stream",
          "text": [
            "# snapshots: 11273\n",
            "first date: 2012-11-19 05:36:20  laste date: 2012-11-27 16:14:40\n"
          ],
          "name": "stdout"
        }
      ]
    },
    {
      "metadata": {
        "id": "-tiybse78sQk",
        "colab_type": "text"
      },
      "cell_type": "markdown",
      "source": [
        "We then aggregate on fixed time periods using the `aggregate_time_period` function. Although there are several ways to call this function, the simplest one is using a string such as \"day\", \"hour\", \"month\", etc.\n",
        "Note how the beginning of the first snapshot is now on midnight of the day on which the first observation was made"
      ]
    },
    {
      "metadata": {
        "id": "ZGX7M3g_2u3w",
        "colab_type": "code",
        "colab": {}
      },
      "cell_type": "code",
      "source": [
        "sociopatterns_Day = sociopatterns.aggregate_time_period(\"day\")"
      ],
      "execution_count": 0,
      "outputs": []
    },
    {
      "metadata": {
        "id": "jatmSRA71Vwe",
        "colab_type": "code",
        "colab": {
          "base_uri": "https://localhost:8080/",
          "height": 51
        },
        "outputId": "7fe144a9-3d4e-4973-bea7-3ba16dd4678e"
      },
      "cell_type": "code",
      "source": [
        "all_times = sociopatterns_Day.snapshots_timesteps()\n",
        "print(\"# snapshots:\",len(all_times))\n",
        "print(\"first date:\",datetime.utcfromtimestamp(all_times[0]),\" laste date:\",datetime.utcfromtimestamp(all_times[-1]))"
      ],
      "execution_count": 50,
      "outputs": [
        {
          "output_type": "stream",
          "text": [
            "# snapshots: 7\n",
            "first date: 2012-11-19 00:00:00  laste date: 2012-11-27 00:00:00\n"
          ],
          "name": "stdout"
        }
      ]
    },
    {
      "metadata": {
        "id": "esS6ElU49Q1u",
        "colab_type": "text"
      },
      "cell_type": "markdown",
      "source": [
        "Another way to aggregate is to use sliding windows. In this example, we use non-overlapping windows of one hour, but is possible to have other parameters, such as overlapping windows.\n",
        "Note how, this time, the first snapshot starts exactly at the time of the first observation in the original data"
      ]
    },
    {
      "metadata": {
        "id": "zUqkDgDr3DNO",
        "colab_type": "code",
        "colab": {}
      },
      "cell_type": "code",
      "source": [
        "sociopatterns_hour_window = sociopatterns.aggregate_sliding_window(bin_size=60*60)"
      ],
      "execution_count": 0,
      "outputs": []
    },
    {
      "metadata": {
        "id": "MQzD1UkB3OMR",
        "colab_type": "code",
        "colab": {
          "base_uri": "https://localhost:8080/",
          "height": 51
        },
        "outputId": "4ef6e456-33bf-4a00-fdc9-c8da2c96b704"
      },
      "cell_type": "code",
      "source": [
        "all_times = sociopatterns_hour_window.snapshots_timesteps()\n",
        "print(\"# snapshots:\",len(all_times))\n",
        "print(\"first date:\",datetime.utcfromtimestamp(all_times[0]),\" laste date:\",datetime.utcfromtimestamp(all_times[-1]))"
      ],
      "execution_count": 52,
      "outputs": [
        {
          "output_type": "stream",
          "text": [
            "# snapshots: 203\n",
            "first date: 2012-11-19 05:36:20  laste date: 2012-11-27 15:36:20\n"
          ],
          "name": "stdout"
        }
      ]
    },
    {
      "metadata": {
        "id": "H9yCmfR1fwKH",
        "colab_type": "code",
        "outputId": "75d7a190-5c0a-4257-fd67-70f7f1a14c22",
        "colab": {
          "base_uri": "https://localhost:8080/",
          "height": 606
        }
      },
      "cell_type": "code",
      "source": [
        "!pip install --upgrade git+https://github.com/Yquetzal/tnetwork.git"
      ],
      "execution_count": 8,
      "outputs": [
        {
          "output_type": "stream",
          "text": [
            "Collecting git+https://github.com/Yquetzal/tnetwork.git\n",
            "  Cloning https://github.com/Yquetzal/tnetwork.git to /tmp/pip-req-build-9nsspbsj\n",
            "Requirement already satisfied, skipping upgrade: numpy in /usr/local/lib/python3.6/dist-packages (from tnetwork==0.1) (1.14.6)\n",
            "Requirement already satisfied, skipping upgrade: matplotlib in /usr/local/lib/python3.6/dist-packages (from tnetwork==0.1) (3.0.3)\n",
            "Requirement already satisfied, skipping upgrade: scikit-learn in /usr/local/lib/python3.6/dist-packages (from tnetwork==0.1) (0.20.3)\n",
            "Requirement already satisfied, skipping upgrade: networkx>=2 in /usr/local/lib/python3.6/dist-packages (from tnetwork==0.1) (2.2)\n",
            "Requirement already satisfied, skipping upgrade: pandas in /usr/local/lib/python3.6/dist-packages (from tnetwork==0.1) (0.22.0)\n",
            "Requirement already satisfied, skipping upgrade: bokeh in /usr/local/lib/python3.6/dist-packages (from tnetwork==0.1) (1.0.4)\n",
            "Requirement already satisfied, skipping upgrade: cycler>=0.10 in /usr/local/lib/python3.6/dist-packages (from matplotlib->tnetwork==0.1) (0.10.0)\n",
            "Requirement already satisfied, skipping upgrade: pyparsing!=2.0.4,!=2.1.2,!=2.1.6,>=2.0.1 in /usr/local/lib/python3.6/dist-packages (from matplotlib->tnetwork==0.1) (2.3.1)\n",
            "Requirement already satisfied, skipping upgrade: python-dateutil>=2.1 in /usr/local/lib/python3.6/dist-packages (from matplotlib->tnetwork==0.1) (2.5.3)\n",
            "Requirement already satisfied, skipping upgrade: kiwisolver>=1.0.1 in /usr/local/lib/python3.6/dist-packages (from matplotlib->tnetwork==0.1) (1.0.1)\n",
            "Requirement already satisfied, skipping upgrade: scipy>=0.13.3 in /usr/local/lib/python3.6/dist-packages (from scikit-learn->tnetwork==0.1) (1.1.0)\n",
            "Requirement already satisfied, skipping upgrade: decorator>=4.3.0 in /usr/local/lib/python3.6/dist-packages (from networkx>=2->tnetwork==0.1) (4.3.2)\n",
            "Requirement already satisfied, skipping upgrade: pytz>=2011k in /usr/local/lib/python3.6/dist-packages (from pandas->tnetwork==0.1) (2018.9)\n",
            "Requirement already satisfied, skipping upgrade: six>=1.5.2 in /usr/local/lib/python3.6/dist-packages (from bokeh->tnetwork==0.1) (1.11.0)\n",
            "Requirement already satisfied, skipping upgrade: PyYAML>=3.10 in /usr/local/lib/python3.6/dist-packages (from bokeh->tnetwork==0.1) (3.13)\n",
            "Requirement already satisfied, skipping upgrade: Jinja2>=2.7 in /usr/local/lib/python3.6/dist-packages (from bokeh->tnetwork==0.1) (2.10)\n",
            "Requirement already satisfied, skipping upgrade: pillow>=4.0 in /usr/local/lib/python3.6/dist-packages (from bokeh->tnetwork==0.1) (4.1.1)\n",
            "Requirement already satisfied, skipping upgrade: packaging>=16.8 in /usr/local/lib/python3.6/dist-packages (from bokeh->tnetwork==0.1) (19.0)\n",
            "Requirement already satisfied, skipping upgrade: tornado>=4.3 in /usr/local/lib/python3.6/dist-packages (from bokeh->tnetwork==0.1) (4.5.3)\n",
            "Requirement already satisfied, skipping upgrade: setuptools in /usr/local/lib/python3.6/dist-packages (from kiwisolver>=1.0.1->matplotlib->tnetwork==0.1) (40.8.0)\n",
            "Requirement already satisfied, skipping upgrade: MarkupSafe>=0.23 in /usr/local/lib/python3.6/dist-packages (from Jinja2>=2.7->bokeh->tnetwork==0.1) (1.1.1)\n",
            "Requirement already satisfied, skipping upgrade: olefile in /usr/local/lib/python3.6/dist-packages (from pillow>=4.0->bokeh->tnetwork==0.1) (0.46)\n",
            "Building wheels for collected packages: tnetwork\n",
            "  Building wheel for tnetwork (setup.py) ... \u001b[?25ldone\n",
            "\u001b[?25h  Stored in directory: /tmp/pip-ephem-wheel-cache-ibipjsvl/wheels/37/e6/30/4a9dea27eda470206092f8a68fd6ed5887aff43855545d906b\n",
            "Successfully built tnetwork\n",
            "Installing collected packages: tnetwork\n",
            "Successfully installed tnetwork-0.1\n"
          ],
          "name": "stdout"
        }
      ]
    },
    {
      "metadata": {
        "id": "DnWOi2FXf7oL",
        "colab_type": "code",
        "colab": {}
      },
      "cell_type": "code",
      "source": [
        ""
      ],
      "execution_count": 0,
      "outputs": []
    }
  ]
}